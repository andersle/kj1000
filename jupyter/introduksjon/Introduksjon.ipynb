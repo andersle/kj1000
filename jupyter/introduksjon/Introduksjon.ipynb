{
 "cells": [
  {
   "cell_type": "markdown",
   "metadata": {},
   "source": [
    "## Kort introduksjon til jupyter notebook\n",
    "\n",
    "Dokumentet du nå leser er en [Jupyter notebook](https://jupyter.org/), satt opp via [binder](https://mybinder.org) og som kjører på [Google Cloud](https://cloud.google.com). Dokumentet er ikke en statisk nettside, men et interaktivt miljø som lar deg skrive og kjøre kode i Python.\n",
    "\n",
    "For eksempel, her er en kort Python-kode som regner ut en verdi, lagrer den i en variabel og skriver ut verdien:"
   ]
  },
  {
   "cell_type": "code",
   "execution_count": null,
   "metadata": {},
   "outputs": [],
   "source": [
    "sekunder_i_en_dag = 24 * 60 * 60\n",
    "print(sekunder_i_en_dag)"
   ]
  },
  {
   "cell_type": "markdown",
   "metadata": {},
   "source": [
    "En jupyter notebook er delt inn i flere celler som inneholder kode eller tekst. Denne cellen inneholder bare tekst, mens cellen over inneholder Python-kode. \n",
    "\n",
    "For å kjøre koden i cellen over, velg cellen (ved å klikke på den) og så trykk på **Run**-knappen eller bruk hurtigtaster: \"Command/Ctrl+Enter\". Du kan også bruke hurtigtastene \"Shift+Enter\" for å kjøre cellen og automatisk flytte til neste celle.\n",
    "\n",
    "Alle celler modifiserer den globale tilstanden, så variabler du definerer ved å kjøre en celle kan brukes i alle andre celler:"
   ]
  },
  {
   "cell_type": "code",
   "execution_count": null,
   "metadata": {},
   "outputs": [],
   "source": [
    "sekunder_i_en_uke = 7 * sekunder_i_en_dag\n",
    "print(sekunder_i_en_uke)"
   ]
  },
  {
   "cell_type": "markdown",
   "metadata": {},
   "source": [
    "## Lagre arbeidet ditt\n",
    "\n",
    "Siden denne siden kjører via Binder, så vil endringene du gjør her **ikke** lagres dersom du lukker ned nettleseren eller trykker *Logout* over.\n",
    "\n",
    "Så dersomdu ønsker å ta vare på arbeidet ditt, så må du laste det ned. Det kan gjøre via *File* -> *Download as* -> *Velg ønsket filformat*."
   ]
  },
  {
   "cell_type": "markdown",
   "metadata": {},
   "source": [
    "# Lage plott\n",
    "\n",
    "For å lage figurer i Python bruker vi en pakke som heter [matplotlib](https://matplotlib.org/). Videre bruker vi ofte en egen pakke for matematiske operasjoner som heter [numpy](https://numpy.org/).\n",
    "\n",
    "Som et eksempel skal vi nå plotte funksjonen $1 - x^2$ mellom -1 og 1.\n",
    "\n",
    "Vi importerer først pakkene vi skal bruke:"
   ]
  },
  {
   "cell_type": "code",
   "execution_count": null,
   "metadata": {},
   "outputs": [],
   "source": [
    "import numpy as np  # Importerer numpy og gir den lokalt navn \"np\".\n",
    "import matplotlib.pyplot as plt # Importerer matplotlib.pyplot og gir den lokalt navn \"plt\".\n",
    "# Her gir vi pakkene lokale navn når vi importerer de, dette er bare for å spare litt skriving!"
   ]
  },
  {
   "cell_type": "markdown",
   "metadata": {},
   "source": [
    "La oss lage en liste x-verdier fra -1 til 1, i steg av 0.01:"
   ]
  },
  {
   "cell_type": "code",
   "execution_count": null,
   "metadata": {},
   "outputs": [],
   "source": [
    "x = np.arange(-1, 1 + 0.01, 0.01) \n",
    "print(x[:20]) # Skriv ut de 20 første x-verdiene."
   ]
  },
  {
   "cell_type": "markdown",
   "metadata": {},
   "source": [
    "**Tips:**\n",
    "Dersom du vil vite mer om en funksjon vi bruker, f.eks. `numpy.arange()`, så kan du klikke i koden der du skriver funksjonen og taste \"Shift+Tab\" for å få opp help for funksjonen (trykker du mer enn en gang får du mer fyldig informasjon)."
   ]
  },
  {
   "cell_type": "markdown",
   "metadata": {},
   "source": [
    "Vi skulle plotte $1-x^2$:"
   ]
  },
  {
   "cell_type": "code",
   "execution_count": null,
   "metadata": {},
   "outputs": [],
   "source": [
    "y = 1.0 - x**2\n",
    "fig, ax = plt.subplots()\n",
    "ax.plot(x, y, label='Min første funksjon: y = 1 - x²')\n",
    "ax.legend()  # Vis figurtekst.\n",
    "ax.set_xlabel('x') # Legg til tekst på x-aksen.\n",
    "ax.set_ylabel('y');  # Legg til tekst på y-aksen."
   ]
  },
  {
   "cell_type": "markdown",
   "metadata": {},
   "source": [
    "## Lagre figuren\n",
    "For å lagre plottet ditt, kan du kjøre koden ``fig.savefig('min_figur.png')``. Dette lagrer figuren din med navnet ``min_figur.png``.\n",
    "\n",
    "For å få lastet ned den lagrede figuren, velg `File -> Open`. Der du vil få en oversikt over hvilke filer du har tilgang til og du kan her velge figuren og laste den ned ved å trykke på *Download*."
   ]
  },
  {
   "cell_type": "code",
   "execution_count": null,
   "metadata": {},
   "outputs": [],
   "source": [
    "fig.savefig('min_figur.png')"
   ]
  },
  {
   "cell_type": "markdown",
   "metadata": {},
   "source": [
    "Dette dokumentet er inspirert av introduksjonen til [Google Colaboratory](https://colab.research.google.com/notebooks/intro.ipynb)"
   ]
  },
  {
   "cell_type": "markdown",
   "metadata": {},
   "source": [
    "En greit måte å lære seg Python på er å eksperimentere litt, og kanskje bruke det til å løse oppgaver fra øvinger o.l."
   ]
  }
 ],
 "metadata": {
  "kernelspec": {
   "display_name": "Python 3 (ipykernel)",
   "language": "python",
   "name": "python3"
  },
  "language_info": {
   "codemirror_mode": {
    "name": "ipython",
    "version": 3
   },
   "file_extension": ".py",
   "mimetype": "text/x-python",
   "name": "python",
   "nbconvert_exporter": "python",
   "pygments_lexer": "ipython3",
   "version": "3.9.6"
  }
 },
 "nbformat": 4,
 "nbformat_minor": 2
}
