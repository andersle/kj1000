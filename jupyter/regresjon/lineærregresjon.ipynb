{
 "cells": [
  {
   "cell_type": "markdown",
   "metadata": {},
   "source": [
    "# Eksempel på lineær regresjon\n",
    "\n",
    "Under vises en av mange metoder på hvordan man kan utføre lineær regresjon i Python.\n",
    "Her bruker vi to pakker for å gjøre regresjonen:\n",
    "\n",
    "* Vi bruker [matplotlib](https://matplotlib.org/) for å lage figurer.\n",
    "* Vi bruker [numpy](https://numpy.org/) for å utføre lineær regresjon."
   ]
  },
  {
   "cell_type": "code",
   "execution_count": null,
   "metadata": {},
   "outputs": [],
   "source": [
    "# Først importerer vi de to pakkene vi skal bruke:\n",
    "import matplotlib.pyplot as plt  # matplotlib\n",
    "import numpy as np  # og numpy\n",
    "# Også forteller vi matplotlib at vi plotter i en notebook (dette gjør at vi kan zoome og flytte rundt i figurene):\n",
    "%matplotlib notebook"
   ]
  },
  {
   "cell_type": "code",
   "execution_count": null,
   "metadata": {},
   "outputs": [],
   "source": [
    "# Deretter taster vi inn x-verdiene og y-verdiene vi skal tilpasse.\n",
    "# Vi tar her dataene fra vedlegg 3 i lab-heftet:\n",
    "x = [16, 20, 24, 28, 32, 36, 40, 44, 48, 52] # Liste med eksperimentelle x-verdier\n",
    "y = [13, 18, 24, 37, 27, 30, 31, 35, 42, 43] # Liste med eksperimentelle y-verdier"
   ]
  },
  {
   "cell_type": "code",
   "execution_count": null,
   "metadata": {},
   "outputs": [],
   "source": [
    "# La oss plotte de målte verdiene for å se hvordan de ser ut:\n",
    "plt.figure() # Lag ny figur.\n",
    "plt.scatter(x, y); # Plot x og y i et \"scatter\" plot."
   ]
  },
  {
   "cell_type": "markdown",
   "metadata": {},
   "source": [
    "Når vi plotter med matplotlib er ved *veldig* mye forskjellig vi kan stille på.\n",
    "Under er et eksempel der vi legger til tekst på aksene, endrer på symbolet og fargen vi bruker i plottet og\n",
    "endrer på størrelsen på punktene.\n",
    "\n",
    "Matplotlib har et [stort galleri med eksempler](https://matplotlib.org/stable/gallery/index.html) for ulike typer plott. Hvis du syns figurene ser litt kjedelige ut, så kan du f.eks. prøve å endre\n",
    "på \"stilen\". Dette kan gjøres med ``plt.style.use(\"navn-på-stil\")``\n",
    "der ``navn-på-stil`` er en [matplotlib stil](https://matplotlib.org/stable/gallery/style_sheets/style_sheets_reference.html)."
   ]
  },
  {
   "cell_type": "code",
   "execution_count": null,
   "metadata": {},
   "outputs": [],
   "source": [
    "plt.figure(constrained_layout=True) # Lag ny figur, men fjern litt tomrom (\"constrained_layout=True\") i figuren.\n",
    "plt.scatter(x, y, marker='X', s=200, color='tomato') # Plot x og y i et \"scatter\" plot, endre symbol og størrelse.\n",
    "plt.xlabel('Dette er teksten på x-aksen')\n",
    "plt.ylabel('Dette er teksten på y-aksen')\n",
    "plt.title('Min fantastiske figur!');"
   ]
  },
  {
   "cell_type": "markdown",
   "metadata": {},
   "source": [
    "I figuren over ser det ut til at det kan passe bra med en rett linje!\n",
    "\n",
    "For å tilpasse linja bruker vi metoden\n",
    "metoden [polyfit](https://numpy.org/doc/stable/reference/generated/numpy.polyfit.html) fra [numpy](https://numpy.org/). Denne metoden gjør tilpassing av polynomer ved minste kvadraters metode:"
   ]
  },
  {
   "cell_type": "code",
   "execution_count": null,
   "metadata": {},
   "outputs": [],
   "source": [
    "fit = np.polyfit(x, y, deg=1) # Tilpasse rett linje, \"fit\" inneholder nå koeffisientene."
   ]
  },
  {
   "cell_type": "markdown",
   "metadata": {},
   "source": [
    "For å bruke [polyfit](https://numpy.org/doc/stable/reference/generated/numpy.polyfit.html) gir vi inn x- og y-verdiene. I tillegg setter vi ``deg=1`` for å få en rett linje på formen $y = a + b x$. Metoden returnerer parameterne og over lagrer vi disse i variabelen ``fit``.\n",
    "\n",
    "Parameteren ``deg`` velger ordenen til polynomet vi tilpasser. Hvis vi har grunn til å tro at det f.eks.\n",
    "passer bedre med et 2. ordens polynom på formen $y = a_0 + a_1 x + a_2 x^2$, så kan vi tilpasse dette\n",
    "ved å sette ``deg=2``."
   ]
  },
  {
   "cell_type": "code",
   "execution_count": null,
   "metadata": {},
   "outputs": [],
   "source": [
    "# Som vi skrev over, så inneholder listen \"fit\" nå koeffisientene til linjen, altså a og b:\n",
    "print(fit)"
   ]
  },
  {
   "cell_type": "code",
   "execution_count": null,
   "metadata": {},
   "outputs": [],
   "source": [
    "# Rekkefølgen på parameterne er: [stigningstall, skjæringspunkt]:\n",
    "b, a = fit[0], fit[1]\n",
    "print(f\"Skjæringspunkt (a): {a:.2f}\")\n",
    "print(f\"Stigningstall (b): {b:.2f}\")"
   ]
  },
  {
   "cell_type": "markdown",
   "metadata": {},
   "source": [
    "For å plotte linjen, kan vi bruke skjæringspunktet og stigningstallet vi har funnet.\n",
    "I [numpy](https://numpy.org/)\n",
    "er det en egen metode, [polyval](https://numpy.org/doc/stable/reference/generated/numpy.polyval.html), som kan hjelpe oss med dette. Vi kan da regne ut y-verdier for den rette linjen for hver opprinnelig x-verdi:"
   ]
  },
  {
   "cell_type": "code",
   "execution_count": null,
   "metadata": {},
   "outputs": [],
   "source": [
    "y_hat = np.polyval(fit, x) #\"y_hat\" inneholder alle y-verdiene til den rette linjen ved x-verdier gitt i listen vår \"x\"."
   ]
  },
  {
   "cell_type": "code",
   "execution_count": null,
   "metadata": {},
   "outputs": [],
   "source": [
    "# La oss plotte linjen og de opprinnelige punktene:\n",
    "plt.figure() # Lag ny figur.\n",
    "plt.scatter(x, y) # Vis de målte verdiene.\n",
    "plt.plot(x, y_hat, color='black');  # Vis den tilpassede linjen."
   ]
  },
  {
   "cell_type": "markdown",
   "metadata": {},
   "source": [
    "Det er god praksis å inkludere en eller flere parametere som sier noe om hvor\n",
    "bra den rette linjen vi har funnet er.\n",
    "Her kan vi bruke den såkalte $R^2$-verdien, og vi regner den derfor ut (her kan du sjekke om formlene vi bruker under stemmer med vedlegg 3 i laboratorieheftet):"
   ]
  },
  {
   "cell_type": "code",
   "execution_count": null,
   "metadata": {},
   "outputs": [],
   "source": [
    "# Regne ut R^2\n",
    "SSE = np.sum((y - y_hat)**2)\n",
    "SST = np.sum((y - np.average(y))**2)\n",
    "R2_1 = 1 - SSE / SST\n",
    "print(f\"R² = {R2_1:.2f}\")"
   ]
  },
  {
   "cell_type": "code",
   "execution_count": null,
   "metadata": {},
   "outputs": [],
   "source": [
    "# Lag ny figur der vi tar med de målte punktene, den rette linjen og viser R²:\n",
    "fig, ax = plt.subplots()  # Her lager vi en figur og akser. Aksene bruker vi for å endre litt på stilen:\n",
    "ax.spines['top'].set_visible(False)  # Skru av aksen i toppen av figuren.\n",
    "ax.spines['right'].set_visible(False)  # Skru av aksen til høyre i figuren.\n",
    "\n",
    "# Scatterplot av datasettet\n",
    "plt.scatter(x, y)\n",
    "\n",
    "# Regresjonslinjen\n",
    "plt.plot(x, y_hat, c='k')\n",
    "\n",
    "# R^2 i figur\n",
    "plt.text(16, 43, f\"R²: {R2_1:.2f}\", c=\"k\")\n",
    "\n",
    "# Aksetitler\n",
    "plt.xlabel(\"Temperatur [°C]\")\n",
    "plt.ylabel(\"Mengde av komponent Y [g]\")\n",
    "\n",
    "plt.show()"
   ]
  },
  {
   "cell_type": "markdown",
   "metadata": {},
   "source": [
    "Ved å observere grafen over kan man tenke seg at et av punktene er en utligger da det skiller seg ut fra de andre punktene ved å ikke følge den rette linjen.\n",
    "Under har dette punktet blitt fjernet og en ny regresjon har blitt utført."
   ]
  },
  {
   "cell_type": "code",
   "execution_count": null,
   "metadata": {},
   "outputs": [],
   "source": [
    "# Liste uten utligger\n",
    "x2 = [16, 20, 24, 32, 36, 40, 44, 48, 52]\n",
    "y2 = [13, 18, 24, 27, 30, 31, 35, 42, 43]\n",
    "\n",
    "# Tilpasse linje til data\n",
    "fit = np.polyfit(x2, y2, deg=1)\n",
    "y_hat2 = np.polyval(fit, x2)\n",
    "\n",
    "# Finne skjæringspunkt og stigningstall\n",
    "b, a = fit[0], fit[1]\n",
    "print(f\"Skjæringspunkt (a): {a:.2f}\")\n",
    "print(f\"Stigningstall (b): {b:.2f}\")\n",
    "\n",
    "# Regne ut R²\n",
    "SSE = np.sum((y2-y_hat2)**2)\n",
    "SST = np.sum((y2-np.average(y2))**2)\n",
    "R2 = 1 - SSE/SST\n",
    "\n",
    "# Figur\n",
    "fig, ax = plt.subplots()\n",
    "plt.scatter(x2, y2)\n",
    "ax.spines['top'].set_visible(False)\n",
    "ax.spines['right'].set_visible(False)\n",
    "plt.plot(x2, y_hat2, c='k')\n",
    "\n",
    "\n",
    "# R² i figur\n",
    "plt.text(16, 42, f\"R²: {R2:.2f}\", c=\"k\")\n",
    "\n",
    "# Aksetitler\n",
    "plt.xlabel(\"Temperatur [°C]\")\n",
    "plt.ylabel(\"Mengde av komponent Y [g]\")\n",
    "\n",
    "plt.show() # Vis figuren!"
   ]
  },
  {
   "cell_type": "markdown",
   "metadata": {},
   "source": [
    "I den nye modellen har vi en veldig høy $R^2$-verdi som indikerer at den rette linjen beskriver datasettet vårt godt."
   ]
  }
 ],
 "metadata": {
  "interpreter": {
   "hash": "2cf7eb316055bfcb83c2df2515790f510e19a899a240834706ce23e881e71b34"
  },
  "kernelspec": {
   "display_name": "Python 3",
   "language": "python",
   "name": "python3"
  },
  "language_info": {
   "codemirror_mode": {
    "name": "ipython",
    "version": 3
   },
   "file_extension": ".py",
   "mimetype": "text/x-python",
   "name": "python",
   "nbconvert_exporter": "python",
   "pygments_lexer": "ipython3",
   "version": "3.9.5"
  }
 },
 "nbformat": 4,
 "nbformat_minor": 2
}
