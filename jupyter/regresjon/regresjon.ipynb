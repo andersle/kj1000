{
 "cells": [
  {
   "cell_type": "markdown",
   "metadata": {},
   "source": [
    "# Lineær regresjon\n",
    "\n",
    "Under vises en av mange metoder på hvordan man kan utføre lineær regresjon i Python. I dette eksempelet viser vi bare koden."
   ]
  },
  {
   "cell_type": "code",
   "execution_count": null,
   "metadata": {},
   "outputs": [],
   "source": [
    "import matplotlib.pyplot as plt\n",
    "import numpy as np\n",
    "\n",
    "#Liste med eksperimentell data\n",
    "x = [16, 20, 24, 28, 32, 36, 40, 44, 48, 52]\n",
    "y = [13, 18, 24, 37, 27, 30, 31, 35, 42, 43]\n",
    "\n",
    "#Tilpasse linje til data\n",
    "fit = np.polyfit(x, y, deg=1) #listen \"fit\" inneholder koeffisientene til linjen altså a og b.\n",
    "y_hat = np.polyval(fit, x) #\"y_hat\" inneholder alle y-verdiene til den rette linjen ved x-verdier gitt i listen vår \"x\".\n",
    "\n",
    "#Finne skjæringspunkt og stigningstall\n",
    "b, a = fit[0], fit[1]\n",
    "print(f\"Skjæringspunkt (a): {a:.2f}\")\n",
    "print(f\"Stigningstall (b): {b:.2f}\")\n",
    "\n",
    "#Regne ut R^2\n",
    "SSE = np.sum((y-y_hat)**2)\n",
    "SST = np.sum((y-np.average(y))**2)\n",
    "R2_1 = 1 - SSE/SST\n",
    "\n",
    "#Figur\n",
    "fig, ax = plt.subplots()\n",
    "ax.spines['top'].set_visible(False)\n",
    "ax.spines['right'].set_visible(False)\n",
    "\n",
    "#Scatterplot av datasettet\n",
    "plt.scatter(x, y)\n",
    "\n",
    "#Regresjonslinjen\n",
    "plt.plot(x, y_hat, c='k')\n",
    "\n",
    "#R^2 i figur\n",
    "plt.text(16, 43, f\"R²: {R2_1:.2f}\", c=\"k\")\n",
    "\n",
    "#Aksetitler\n",
    "plt.xlabel(\"Temperatur [°C]\")\n",
    "plt.ylabel(\"Mengde av komponent Y [g]\")\n",
    "\n",
    "plt.show()"
   ]
  }
 ],
 "metadata": {
  "interpreter": {
   "hash": "2cf7eb316055bfcb83c2df2515790f510e19a899a240834706ce23e881e71b34"
  },
  "kernelspec": {
   "display_name": "Python 3 (ipykernel)",
   "language": "python",
   "name": "python3"
  },
  "language_info": {
   "codemirror_mode": {
    "name": "ipython",
    "version": 3
   },
   "file_extension": ".py",
   "mimetype": "text/x-python",
   "name": "python",
   "nbconvert_exporter": "python",
   "pygments_lexer": "ipython3",
   "version": "3.9.6"
  }
 },
 "nbformat": 4,
 "nbformat_minor": 2
}
