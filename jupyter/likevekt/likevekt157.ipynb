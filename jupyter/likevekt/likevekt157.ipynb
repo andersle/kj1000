{
 "cells": [
  {
   "cell_type": "markdown",
   "id": "e9bc611c",
   "metadata": {},
   "source": [
    "# Likevektskonsentrasjoner (eksempel 15.7)\n",
    "Her skal vi gjøre eksempel 15.7 (side 528) fra læreboken. Her har vi gitt likevekten (samme som i eksempel 15.6),\n",
    "\n",
    "$$\\text{H}_2(\\text{g}) + \\text{I}_2 (\\text{g}) \\rightleftharpoons   2\\text{HI} (\\text{g}), \\quad K_{\\text{c}} = 54.3,$$\n",
    "\n",
    "og vi har gitt konsentrasjoner før likevekten innstilles (ellers er opplysninger som i 15.6):\n",
    "- $[\\text{H}_2] = 0.00623$ M,\n",
    "- $[\\text{I}_2] = 0.00414$ M,\n",
    "- $[\\text{HI}] = 0.0224$ M.\n",
    "\n",
    "Vi blir så bedt om å finne $[\\text{H}_2]$, $[\\text{I}_2]$ og $[\\text{HI}]$ ved likevekt.\n",
    "\n",
    "Vi skal løse denne oppgaven ved å bruke Python. For å kunne regne symbolsk skal vi bruke et bibliotek som heter [SymPy](https://www.sympy.org/)."
   ]
  },
  {
   "cell_type": "code",
   "execution_count": null,
   "id": "03e414a4",
   "metadata": {},
   "outputs": [],
   "source": [
    "import sympy as sym  # Importer SymPy"
   ]
  },
  {
   "cell_type": "code",
   "execution_count": null,
   "id": "2d44802a",
   "metadata": {},
   "outputs": [],
   "source": [
    "# Definer størrelsene vi kjenner\n",
    "START_H2 = 0.00623\n",
    "START_I2 = 0.00414\n",
    "START_HI = 0.0224\n",
    "KC = 54.3"
   ]
  },
  {
   "cell_type": "markdown",
   "id": "ff1826ed",
   "metadata": {},
   "source": [
    "Over har vi listet opp hva vi kjenner. La oss også liste opp alle de ukjente som vi skal bestemme:\n",
    "- $[\\text{H}_2]$ ved likevekt,\n",
    "- $[\\text{I}_2]$ ved likevekt,\n",
    "- $[\\text{HI}]$ ved likevekt.\n",
    "\n",
    "Vi har altså tre ukjente. La oss definere de som størrelser (spesifikt som [SymPy-symboler](https://docs.sympy.org/latest/tutorial/intro.html#a-more-interesting-example)) slik at vi kan regne med de (dette blir litt som når vi introduserer $x$ osv. for ukjente størrelser i ligninger vi skriver for hånd):"
   ]
  },
  {
   "cell_type": "code",
   "execution_count": null,
   "id": "bdc7f859",
   "metadata": {},
   "outputs": [],
   "source": [
    "# Vi definerer de ukjente størrelsene:\n",
    "c_H2, c_I2, c_HI = sym.symbols('c_H2 c_I2 c_HI')"
   ]
  },
  {
   "cell_type": "markdown",
   "id": "4b2d2666",
   "metadata": {},
   "source": [
    "Vi har nå definert konsentrasjonene. Disse er foreløpig ukjente. For å bestemme de, så trenger vi noen likninger som relaterer de til hverandre. Mulige slike ligninger er:\n",
    "- likevektskonstanten\n",
    "- massebalanser"
   ]
  },
  {
   "cell_type": "code",
   "execution_count": null,
   "id": "58f7d633",
   "metadata": {},
   "outputs": [],
   "source": [
    "# La oss begynne med likevektskonstanten\n",
    "ligning1 = sym.Eq((c_HI * c_HI)/(c_H2 * c_I2), KC)"
   ]
  },
  {
   "cell_type": "markdown",
   "id": "9cf51d25",
   "metadata": {},
   "source": [
    "Vi kan be SymPy skrive ut hva denne ligningen er, for å sjekke at den ser ut som vi hadde tenkt:"
   ]
  },
  {
   "cell_type": "code",
   "execution_count": null,
   "id": "01cc998c",
   "metadata": {},
   "outputs": [],
   "source": [
    "ligning1"
   ]
  },
  {
   "cell_type": "markdown",
   "id": "0620b95e",
   "metadata": {},
   "source": [
    "Vi lager så molbalanser for de to grunnstoffene. Her bruker vi at:\n",
    "- Vi \"mister\" ikke noen H-atomer ved reaksjonen, slik at det fortsatt må være like mange H-atomer ved likevekt som det var ved starten. Her merker vi oss at vi har to \"kilder\" til H-atomer i starten: H$_2$ og HI.\n",
    "- Vi \"mister\" ikke noen I-atomer ved reaksjonen, slik at det fortsatt må være like mange I-atomer ved likevekt som det var ved starten. Her merker vi oss at vi har to \"kilder\" til I-atomer i starten: I$_2$ og HI.\n",
    "\n",
    "Vi kan derfor her lage to molbalanser:\n",
    "- En for hydrogen:\n",
    "  $$2[\\text{H}_2]_{\\text{start}} + [\\text{HI}]_{\\text{start}} = 2[\\text{H}_2]_{\\text{likevekt}} + [\\text{HI}]_{\\text{likevekt}}.$$\n",
    "\n",
    "- En for jod,\n",
    "  $$2[\\text{I}_2]_{\\text{start}} + [\\text{HI}]_{\\text{start}} = 2[\\text{I}_2]_{\\text{likevekt}} + [\\text{HI}]_{\\text{likevekt}}.$$\n",
    "\n",
    "La oss formulere dette som ligninger:"
   ]
  },
  {
   "cell_type": "code",
   "execution_count": null,
   "id": "1e1223db",
   "metadata": {},
   "outputs": [],
   "source": [
    "ligning2 = sym.Eq(2 * START_H2 + START_HI, 2 * c_H2 + c_HI)\n",
    "ligning3 = sym.Eq(2 * START_I2 + START_HI, 2 * c_I2 + c_HI)"
   ]
  },
  {
   "cell_type": "code",
   "execution_count": null,
   "id": "7aeb5cf6",
   "metadata": {},
   "outputs": [],
   "source": [
    "# Skriv ut for dobbeltsjekk:\n",
    "ligning2"
   ]
  },
  {
   "cell_type": "code",
   "execution_count": null,
   "id": "0b710fca",
   "metadata": {},
   "outputs": [],
   "source": [
    "ligning3"
   ]
  },
  {
   "cell_type": "markdown",
   "id": "2007db7b",
   "metadata": {},
   "source": [
    "Vi har nå tre ligninger og vi har tre ukjente. Dette kan vi (eller i dette tilfellet, SymPy) løse:"
   ]
  },
  {
   "cell_type": "code",
   "execution_count": null,
   "id": "0334a4ff",
   "metadata": {},
   "outputs": [],
   "source": [
    "løsninger = sym.solve([ligning1, ligning2, ligning3], [c_H2, c_I2, c_HI], dict=True)"
   ]
  },
  {
   "cell_type": "code",
   "execution_count": null,
   "id": "7455193c",
   "metadata": {},
   "outputs": [],
   "source": [
    "løsninger"
   ]
  },
  {
   "cell_type": "markdown",
   "id": "101d129f",
   "metadata": {},
   "source": [
    "En av løsningene SymPy fant gir negative konsentrasjoner. Dette er en ugyldig løsning og vi beholder bare den som har kun positive løsninger:"
   ]
  },
  {
   "cell_type": "code",
   "execution_count": null,
   "id": "b001b3bf",
   "metadata": {},
   "outputs": [],
   "source": [
    "# Vis gyldige løsninger:\n",
    "gyldige = []\n",
    "for løsning in løsninger:\n",
    "    if all(i > 0 for i in løsning.values()):\n",
    "        gyldige.append(løsning)\n",
    "        print('Gyldig løsning:')\n",
    "        print(f'- [H2] = {løsning.get(c_H2):.4g} M')\n",
    "        print(f'- [I2] = {løsning.get(c_I2):.4g} M')\n",
    "        print(f'- [HI] = {løsning.get(c_HI):.4g} M')"
   ]
  },
  {
   "cell_type": "markdown",
   "id": "c5c6d554",
   "metadata": {},
   "source": [
    "Eksempelet i læreboken finner til sammenlikning:\n",
    "- $[\\text{H}_2] = 0.00467$ M,\n",
    "- $[\\text{I}_2] = 0.00258$ M,\n",
    "- $[\\text{HI}] = 0.0255$ M."
   ]
  }
 ],
 "metadata": {
  "kernelspec": {
   "display_name": "Python 3 (ipykernel)",
   "language": "python",
   "name": "python3"
  },
  "language_info": {
   "codemirror_mode": {
    "name": "ipython",
    "version": 3
   },
   "file_extension": ".py",
   "mimetype": "text/x-python",
   "name": "python",
   "nbconvert_exporter": "python",
   "pygments_lexer": "ipython3",
   "version": "3.9.6"
  }
 },
 "nbformat": 4,
 "nbformat_minor": 5
}
