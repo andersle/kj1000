{
 "cells": [
  {
   "cell_type": "markdown",
   "id": "e9bc611c",
   "metadata": {},
   "source": [
    "# Likevektskonsentrasjoner (Eksamen høst 2020, oppgave 33(c))\n",
    "Fosgen (COCl$_2$) er en svært giftig gass som ble brukt som stridsgass under første verdenskrig. I dag er fosgen\n",
    "et viktig utgangskjemikalie som kan brukes til å fremstille polykarbonat som bl.a. brukes til å lage \"uknuselige\"\n",
    "butikkvinduer.\n",
    "\n",
    "Fosgen dekomponerer etter følgende reaksjonslignin:\n",
    "\n",
    "$$\\text{COCl}_2(\\text{g}) + \\rightleftharpoons \\text{CO} (\\text{g}) + \\text{Cl}_2 (\\text{g}),$$\n",
    "\n",
    "der likevektskonstanten ved 1100 K er $K_{p} = 1.6 \\times 10^{2}.$\n",
    "\n",
    "**Hvis rent fosgen med et initielt trykk på 1.0 atm dekomponerer ved 1100 K, hva blir trykket av de ulike gassene vedlikevekt?**"
   ]
  },
  {
   "cell_type": "markdown",
   "id": "3de444f6",
   "metadata": {},
   "source": [
    "Vi skal løse denne oppgaven ved å bruke Python. For å kunne regne symbolsk skal vi bruke et bibliotek som heter [SymPy](https://www.sympy.org/):"
   ]
  },
  {
   "cell_type": "code",
   "execution_count": null,
   "id": "03e414a4",
   "metadata": {},
   "outputs": [],
   "source": [
    "import sympy as sym  # Importer SymPy"
   ]
  },
  {
   "cell_type": "code",
   "execution_count": null,
   "id": "2d44802a",
   "metadata": {},
   "outputs": [],
   "source": [
    "# Definer størrelsene vi kjenner\n",
    "START_COCl2 = 1.0\n",
    "KP = 1.6e2"
   ]
  },
  {
   "cell_type": "markdown",
   "id": "ff1826ed",
   "metadata": {},
   "source": [
    "Over har vi listet opp hva vi kjenner. La oss også liste opp alle de ukjente trykkene som vi skal bestemme:\n",
    "- $P_{\\text{COCl}_2}$\n",
    "- $P_{\\text{CO}}$\n",
    "- $P_{\\text{Cl}_{2}}$\n",
    "\n",
    "Vi har altså tre ukjente. La oss definere de som størrelser (spesifikt som [SymPy-symboler](https://docs.sympy.org/latest/tutorial/intro.html#a-more-interesting-example)) slik at vi kan regne med de (dette blir litt som når vi introduserer $x$ osv. for ukjente størrelser i ligninger vi skriver for hånd):"
   ]
  },
  {
   "cell_type": "code",
   "execution_count": null,
   "id": "bdc7f859",
   "metadata": {},
   "outputs": [],
   "source": [
    "# Vi definerer de ukjente størrelsene:\n",
    "p_COCl2, p_CO, p_Cl2 = sym.symbols('p_COCl2 p_CO p_Cl2')"
   ]
  },
  {
   "cell_type": "markdown",
   "id": "4b2d2666",
   "metadata": {},
   "source": [
    "Vi har nå definert konsentrasjonene. Disse er foreløpig ukjente. For å bestemme de, så trenger vi noen likninger som relaterer de til hverandre. Mulige slike ligninger er:\n",
    "- likevektskonstanten\n",
    "- massebalanser"
   ]
  },
  {
   "cell_type": "code",
   "execution_count": null,
   "id": "58f7d633",
   "metadata": {},
   "outputs": [],
   "source": [
    "# La oss begynne med likevektskonstanten:\n",
    "ligning1 = sym.Eq((p_CO * p_Cl2)/p_COCl2, KP)"
   ]
  },
  {
   "cell_type": "markdown",
   "id": "9cf51d25",
   "metadata": {},
   "source": [
    "Vi kan be SymPy skrive ut hva denne ligningen er, for å sjekke at den ser ut som vi hadde tenkt:"
   ]
  },
  {
   "cell_type": "code",
   "execution_count": null,
   "id": "01cc998c",
   "metadata": {},
   "outputs": [],
   "source": [
    "ligning1"
   ]
  },
  {
   "cell_type": "markdown",
   "id": "0620b95e",
   "metadata": {},
   "source": [
    "Her har vi tre grunnstoffer i forbindelsene som er involvert i reaksjonen, C, O og Cl. Vi kan derfor lage tre molbalanser for disse grunnstoffene. Her bruker vi prinsippet om at grunnstoffer ikke forsvinner i kjemiske reaksjoner. Dvs. hvis vi vet at vi har $n$ mol av grunnstoff $X$ før likevekt innstilles, så må vi fortsatt ha $n$ mol av grunnstoffet $X$ når likevekten er innstilt.\n",
    "\n",
    "Vi lager tre molbalanser:\n",
    "- En for karbon:\n",
    "  $$n_{\\text{COCl}_2,{\\text{start}}} = n_{\\text{COCl}_2,{\\text{likevekt}}} + n_{\\text{CO},{\\text{likevekt}}}$$\n",
    "\n",
    "- En for oksygen:\n",
    "  $$n_{\\text{COCl}_2,{\\text{start}}} = n_{\\text{COCl}_2,{\\text{likevekt}}} + n_{\\text{CO},{\\text{likevekt}}}$$\n",
    "\n",
    "- En for klor:\n",
    "  $$2 n_{\\text{COCl}_2,{\\text{start}}} = 2 n_{\\text{COCl}_2,{\\text{likevekt}}} + 2n_{\\text{Cl}_2,{\\text{likevekt}}}$$\n",
    "\n",
    "Her ser vi at likningen for karbon og oksygen er identisk. Det betyr at de tre molbalansene i virkeligheten bare gir\n",
    "to uavhengige likninger (f.eks. den for karbon og den for klor).\n",
    "\n",
    "Over skrev vi molbalanser, men her bruker vi trykk. Vi kan regne om ved å bruke ideell gasslov: $P = \\frac{nRT}{v}$. Her blir dette bare en felles faktor som vi ganger likningene over med. Med andre ord, vi skal skrive de direkte med trykk. La oss gjøre det:"
   ]
  },
  {
   "cell_type": "code",
   "execution_count": null,
   "id": "1e1223db",
   "metadata": {},
   "outputs": [],
   "source": [
    "ligning2 = sym.Eq(START_COCl2,  p_COCl2 + p_CO)  # for karbon\n",
    "ligning3 = sym.Eq(START_COCl2, p_COCl2 + p_Cl2)  # for oksygen/klor"
   ]
  },
  {
   "cell_type": "code",
   "execution_count": null,
   "id": "7aeb5cf6",
   "metadata": {},
   "outputs": [],
   "source": [
    "# Skriv ut for dobbeltsjekk:\n",
    "ligning2"
   ]
  },
  {
   "cell_type": "code",
   "execution_count": null,
   "id": "0b710fca",
   "metadata": {},
   "outputs": [],
   "source": [
    "ligning3"
   ]
  },
  {
   "cell_type": "markdown",
   "id": "2007db7b",
   "metadata": {},
   "source": [
    "Vi har nå tre ligninger og vi har tre ukjente. Dette kan vi (eller i dette tilfellet, SymPy) løse:"
   ]
  },
  {
   "cell_type": "code",
   "execution_count": null,
   "id": "0334a4ff",
   "metadata": {},
   "outputs": [],
   "source": [
    "løsninger = sym.solve([ligning1, ligning2, ligning3], [p_COCl2, p_CO, p_Cl2], dict=True)"
   ]
  },
  {
   "cell_type": "code",
   "execution_count": null,
   "id": "7455193c",
   "metadata": {},
   "outputs": [],
   "source": [
    "løsninger"
   ]
  },
  {
   "cell_type": "markdown",
   "id": "101d129f",
   "metadata": {},
   "source": [
    "En av løsningene SymPy fant gir negative trykk. Dette er en ugyldig løsning og vi beholder bare den som har kun positive løsninger:"
   ]
  },
  {
   "cell_type": "code",
   "execution_count": null,
   "id": "b001b3bf",
   "metadata": {},
   "outputs": [],
   "source": [
    "# Vis gyldige løsninger:\n",
    "gyldige = []\n",
    "for løsning in løsninger:\n",
    "    if all(i > 0 for i in løsning.values()):\n",
    "        gyldige.append(løsning)\n",
    "        print('Gyldig løsning:')\n",
    "        print(f'- P(COCl2) = {løsning.get(p_COCl2):.3g} atm')\n",
    "        print(f'- P(CO) = {løsning.get(p_CO):.3g} atm')\n",
    "        print(f'- P(Cl2) = {løsning.get(p_Cl2):.3g} atm')"
   ]
  },
  {
   "cell_type": "markdown",
   "id": "e26b52b1",
   "metadata": {},
   "source": [
    "Her kan vi sammenlikne med løsningsforslaget:\n",
    "- $P_{\\text{COCl}_2} = 0.006$ atm,\n",
    "- $P_{\\text{CO}} = 0.994$ atm,\n",
    "- $P_{\\text{Cl}_{2}} = 0.994$ atm,"
   ]
  }
 ],
 "metadata": {
  "kernelspec": {
   "display_name": "Python 3 (ipykernel)",
   "language": "python",
   "name": "python3"
  },
  "language_info": {
   "codemirror_mode": {
    "name": "ipython",
    "version": 3
   },
   "file_extension": ".py",
   "mimetype": "text/x-python",
   "name": "python",
   "nbconvert_exporter": "python",
   "pygments_lexer": "ipython3",
   "version": "3.9.6"
  }
 },
 "nbformat": 4,
 "nbformat_minor": 5
}
