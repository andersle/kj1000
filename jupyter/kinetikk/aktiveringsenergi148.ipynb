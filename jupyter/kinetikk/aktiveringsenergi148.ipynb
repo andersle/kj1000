{
 "cells": [
  {
   "cell_type": "markdown",
   "id": "373e59e3",
   "metadata": {},
   "source": [
    "# Bestemme aktiveringsenergi (eksempel 14.7)\n",
    "Her skal vi bestemme aktiveringsenergien ($E_\\text{a}$) for en reaksjon, gitt målinger av hastighetskonstanten ($k$) ved forskjellige temperaturer ($T$). Dette er eksempel 14.7 på side 489 i læreboken.\n",
    "\n",
    "Her skal vi bruke at hastighetskonstanten er relatert til aktiveringsenergien via [Arrhenius ligningen](https://no.wikipedia.org/wiki/Arrhenius%27_ligning):\n",
    "\n",
    "$$ k = A \\text{e}^{-\\frac{E_\\text{a}}{R T}},$$\n",
    "\n",
    "der $R$ er gasskonstanten og $A$ er en føreksponentiell faktor. Ved å ta logaritmen kan vi skrive denne som:\n",
    "\n",
    "$$ \\ln k = \\ln A -\\frac{E_\\text{a}}{R} \\times \\frac{1}{T},$$\n",
    "\n",
    "og dette har form som ligningen for en rett linje,\n",
    "\n",
    "$$y = a + b \\times x.$$\n",
    "\n",
    "Sammenlikner vi ledd-for-ledd, ser vi at:\n",
    "- $y = \\ln k$,\n",
    "- $\\ln A = a$,\n",
    "- $b = -\\frac{E_\\text{a}}{R}$,\n",
    "- $x = \\frac{1}{T}$."
   ]
  },
  {
   "cell_type": "markdown",
   "id": "c32657ae",
   "metadata": {},
   "source": [
    "I dette eksempelet har vi gitt målinger på tabellform. Vi bruker her [pandas](https://pandas.pydata.org/) for å skrive inn tabell-verdiene:"
   ]
  },
  {
   "cell_type": "code",
   "execution_count": null,
   "id": "e87632d6",
   "metadata": {},
   "outputs": [],
   "source": [
    "import pandas as pd"
   ]
  },
  {
   "cell_type": "code",
   "execution_count": null,
   "id": "fc5111d5",
   "metadata": {},
   "outputs": [],
   "source": [
    "tabell =  pd.DataFrame(\n",
    "    [\n",
    "        (0.011, 700),\n",
    "        (0.035, 730),\n",
    "        (0.105, 760),\n",
    "        (0.343, 790),\n",
    "        (0.789, 810),\n",
    "    ],\n",
    "    columns=('k', 'T')\n",
    ")"
   ]
  },
  {
   "cell_type": "code",
   "execution_count": null,
   "id": "8a54a848",
   "metadata": {},
   "outputs": [],
   "source": [
    "tabell"
   ]
  },
  {
   "cell_type": "markdown",
   "id": "9b093abc",
   "metadata": {},
   "source": [
    "La oss begynne med å plotte disse verdiene, bare for å se hvordan de ser ut:"
   ]
  },
  {
   "cell_type": "code",
   "execution_count": null,
   "id": "efc2132b",
   "metadata": {},
   "outputs": [],
   "source": [
    "from matplotlib import pyplot as plt\n",
    "%matplotlib notebook\n",
    "plt.style.use(['seaborn-notebook', '../kj1000.mplstyle'])"
   ]
  },
  {
   "cell_type": "code",
   "execution_count": null,
   "id": "b1aece35",
   "metadata": {},
   "outputs": [],
   "source": [
    "fig, axi = plt.subplots(constrained_layout=True)\n",
    "axi.scatter(tabell['T'], tabell['k'], s=100)\n",
    "axi.set(xlabel='T / K', ylabel='k / (1/M$^{1/2}$ s)');"
   ]
  },
  {
   "cell_type": "markdown",
   "id": "f5cf5e44",
   "metadata": {},
   "source": [
    "Vi kan også sjekke hvordan det ser ut på logaritmisk form:"
   ]
  },
  {
   "cell_type": "code",
   "execution_count": null,
   "id": "26f7d233",
   "metadata": {},
   "outputs": [],
   "source": [
    "import numpy as np\n",
    "lnk = np.log(tabell['k'].values)\n",
    "invers_T = 1.0 / tabell['T'].values"
   ]
  },
  {
   "cell_type": "code",
   "execution_count": null,
   "id": "7d4f4557",
   "metadata": {},
   "outputs": [],
   "source": [
    "fig, axi = plt.subplots(constrained_layout=True)\n",
    "axi.scatter(invers_T, lnk, s=100)\n",
    "axi.set(xlabel='1/T / K$^{-1}$', ylabel='ln k');"
   ]
  },
  {
   "cell_type": "markdown",
   "id": "573118be",
   "metadata": {},
   "source": [
    "Dette så jo veldig lineær ut - la oss prøve å tilpasse en rett linje:"
   ]
  },
  {
   "cell_type": "code",
   "execution_count": null,
   "id": "9f2327a5",
   "metadata": {},
   "outputs": [],
   "source": [
    "linje = np.polyfit(invers_T, lnk, 1)\n",
    "print('Tilpasset y = a + bx')\n",
    "print(f'a = {linje[1]}')\n",
    "print(f'b = {linje[0]}')"
   ]
  },
  {
   "cell_type": "markdown",
   "id": "e650f4fb",
   "metadata": {},
   "source": [
    "La oss plotte linja vi fant for å se hvor bra den tilpasser punktene:"
   ]
  },
  {
   "cell_type": "code",
   "execution_count": null,
   "id": "bd96a8d4",
   "metadata": {},
   "outputs": [],
   "source": [
    "#Plott av målt data og tilpasset linje:\n",
    "y = np.polyval(linje, invers_T)\n",
    "SSE = np.sum((lnk - y)**2)\n",
    "SST = np.sum((lnk - np.average(lnk))**2)\n",
    "R2 = 1 - SSE / SST \n",
    "fig, axi = plt.subplots(constrained_layout=True)\n",
    "axi.scatter(invers_T, lnk, s=100, label='Målepunkter')\n",
    "axi.plot(\n",
    "    invers_T, y,\n",
    "    color='k',\n",
    "    label=f'Tilpasset linje (R² = {R2:.3g}):\\ny = {linje[1]:.3g} + {linje[0]:.3g} x'\n",
    ")\n",
    "axi.legend()\n",
    "axi.set(xlabel='1/T / K$^{-1}$', ylabel='ln k');"
   ]
  },
  {
   "cell_type": "markdown",
   "id": "bf572744",
   "metadata": {},
   "source": [
    "Ja, det så jo bra ut! La oss så finne aktiveringsenergien. Den var gitt ved:\n",
    "\n",
    "$$b = -\\frac{E_\\text{a}}{R} \\implies E_\\text{a} = -R \\times b .$$"
   ]
  },
  {
   "cell_type": "code",
   "execution_count": null,
   "id": "445129f6",
   "metadata": {},
   "outputs": [],
   "source": [
    "R = 8.31446261815324\n",
    "aktiveringsenergi = -linje[0] * R"
   ]
  },
  {
   "cell_type": "code",
   "execution_count": null,
   "id": "8c903117",
   "metadata": {},
   "outputs": [],
   "source": [
    "aktiveringsenergi"
   ]
  },
  {
   "cell_type": "code",
   "execution_count": null,
   "id": "a5546fb3",
   "metadata": {},
   "outputs": [],
   "source": [
    "print(f'Aktiveringsenergien er {aktiveringsenergi/1000:.2e} kJ/mol.')"
   ]
  },
  {
   "cell_type": "markdown",
   "id": "b63d62ad",
   "metadata": {},
   "source": [
    "Til sammenlikning finner læreboken en aktiveringsenergi på $1.74 \\times 10^2$ kJ/mol. Læreboken bruker bare to punkter til å finne stigningstallet, mens vi har brukt alle punktene!"
   ]
  },
  {
   "cell_type": "markdown",
   "id": "4b9cf037",
   "metadata": {},
   "source": [
    "Tilslutt, la oss se hvordan ligningen for $k$ ser ut med verdiene vi har funnet:"
   ]
  },
  {
   "cell_type": "code",
   "execution_count": null,
   "id": "30d6efcf",
   "metadata": {},
   "outputs": [],
   "source": [
    "A = np.exp(linje[1])\n",
    "T = np.linspace(690, 820, 100)\n",
    "k = A * np.exp(-aktiveringsenergi / (R * T))\n",
    "fig, axi = plt.subplots(constrained_layout=True)\n",
    "axi.scatter(tabell['T'], tabell['k'], s=100, label='Målepunkter')\n",
    "axi.plot(T, k, color='k', label='Tilpasset ligning')\n",
    "axi.legend()\n",
    "axi.set(xlabel='T / K', ylabel='k / (1/M$^{1/2}$ s)');"
   ]
  }
 ],
 "metadata": {
  "kernelspec": {
   "display_name": "Python 3 (ipykernel)",
   "language": "python",
   "name": "python3"
  },
  "language_info": {
   "codemirror_mode": {
    "name": "ipython",
    "version": 3
   },
   "file_extension": ".py",
   "mimetype": "text/x-python",
   "name": "python",
   "nbconvert_exporter": "python",
   "pygments_lexer": "ipython3",
   "version": "3.9.6"
  }
 },
 "nbformat": 4,
 "nbformat_minor": 5
}
