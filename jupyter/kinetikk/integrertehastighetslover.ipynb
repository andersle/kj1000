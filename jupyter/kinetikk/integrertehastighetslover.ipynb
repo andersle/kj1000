{
 "cells": [
  {
   "cell_type": "markdown",
   "metadata": {},
   "source": [
    "# Integrerte hastighetslover\n",
    "Her skal vi integrere [0. ordens](#0.-ordens-reaksjon), [1. ordens](#1.-ordens-reaksjon) og [2. ordens](#2.-ordens-reaksjon) hastighetslover. Målet vårt er å bruke definisjonen på reaksjonshastighet, sammen med hastighetsloven, for å finne integrerte hastighetslover.\n",
    "\n",
    "For å gjøre det mer konkret, ser vi på reaksjonen,\n",
    "\n",
    "$$\\text{A} \\to \\text{produkter},$$\n",
    "\n",
    "der reaksjonshastigheten, $r$, er gitt ved,\n",
    "\n",
    "$$r = -\\frac{\\text{d} [\\text{A}]}{\\text{d} t}.$$\n",
    "\n",
    "Hastighetsloven er,\n",
    "\n",
    "$$r = k [\\text{A}]^\\alpha,$$\n",
    "\n",
    "der $k$ er hastighetskonstanten og $\\alpha$ er reaksjonens orden. Setter vi disse to uttrykkene for $r$ lik hverandre, så får vi en differensialligning vi kan løse,\n",
    "\n",
    "$$-\\frac{\\text{d} [\\text{A}]}{\\text{d} t} = k [\\text{A}]^\\alpha.$$\n",
    "\n",
    "I differensialligningen er det *funksjonen* $[\\text{A}]$ som er ukjent. Vi\n",
    "skal løse differensialligningen ved å bruke [SymPy](https://www.sympy.org/)."
   ]
  },
  {
   "cell_type": "markdown",
   "metadata": {},
   "source": [
    "## 0. ordens reaksjon\n",
    "For en 0. ordens reaksjon setter vi $\\alpha = 0$ og får da følgende differensialligning,\n",
    "\n",
    "$$-\\frac{\\text{d} [\\text{A}]}{\\text{d} t} = k.$$"
   ]
  },
  {
   "cell_type": "code",
   "execution_count": null,
   "metadata": {},
   "outputs": [],
   "source": [
    "import sympy as sym"
   ]
  },
  {
   "cell_type": "code",
   "execution_count": null,
   "metadata": {},
   "outputs": [],
   "source": [
    "# Definer variabler:\n",
    "k, t = sym.symbols('k t', positive=True, real=True)\n",
    "# Definer [A] som ukjent, men fortell SymPy at dette er en funksjon:\n",
    "A = sym.Function('A')(t)"
   ]
  },
  {
   "cell_type": "code",
   "execution_count": null,
   "metadata": {},
   "outputs": [],
   "source": [
    "# Definer differensialligningen vi skal løse:\n",
    "ligning0 = sym.Eq(-sym.Derivative(A,t), k)\n",
    "# Skriv ut ligningen for å sjekke at den ser riktig ut:\n",
    "ligning0"
   ]
  },
  {
   "cell_type": "code",
   "execution_count": null,
   "metadata": {},
   "outputs": [],
   "source": [
    "# Her definerer vi at konsentrasjonen ved t = 0 er A0:\n",
    "A0 = sym.symbols('A0', positive=True, real=True)\n",
    "start = {A.subs(t, 0): A0}\n",
    "# Løs differensialligningen:\n",
    "løsning0 = sym.dsolve(ligning0, ics=start)\n",
    "løsning0"
   ]
  },
  {
   "cell_type": "markdown",
   "metadata": {},
   "source": [
    "Den integrerte hastighetsloven for en 0. ordens reaksjon blir altså,\n",
    "\n",
    "$$ [\\text{A}] = [\\text{A}]_0 - kt.$$\n",
    "\n",
    "Vi kan også prøve å finne halveringstiden ($t_{1/2}$) som er tiden det tar til halvparten av opprinnelig mengde av A er igjen. Dvs. tiden som oppfyller:\n",
    "\n",
    "$$ [\\text{A}] = \\frac{[\\text{A}]_0}{2} = [\\text{A}]_0 - kt_{1/2}.$$"
   ]
  },
  {
   "cell_type": "code",
   "execution_count": null,
   "metadata": {
    "scrolled": false
   },
   "outputs": [],
   "source": [
    "# Ved halveringstiden er halvparten av opprinnelig mengde A igjen, dvs A(t) = A0 / 2.\n",
    "# Vi skriver dette som en ligning:\n",
    "halv_0 = løsning0.subs({A: A0/2})\n",
    "halv_0"
   ]
  },
  {
   "cell_type": "code",
   "execution_count": null,
   "metadata": {},
   "outputs": [],
   "source": [
    "# Og løser den:\n",
    "sym.solve(halv_0)"
   ]
  },
  {
   "cell_type": "markdown",
   "metadata": {},
   "source": [
    "Halveringstiden er altså bestemt ved,\n",
    "\n",
    "$$ \\text{A}_0 = 2 k t_{1/2} \\implies t_{1/2} = \\frac{\\text{A}_0}{ 2 k}.$$"
   ]
  },
  {
   "cell_type": "markdown",
   "metadata": {},
   "source": [
    "## 1. ordens reaksjon\n",
    "For en 1. ordens reaksjon setter vi $\\alpha = 1$ og får da følgende differensialligning,\n",
    "\n",
    "$$-\\frac{\\text{d} [\\text{A}]}{\\text{d} t} = k [\\text{A}].$$"
   ]
  },
  {
   "cell_type": "code",
   "execution_count": null,
   "metadata": {},
   "outputs": [],
   "source": [
    "# Definer differensialligningen vi skal løse:\n",
    "ligning1 = sym.Eq(-sym.Derivative(A,t), k * A)\n",
    "# Skriv ut ligningen for å sjekke at den ser riktig ut:\n",
    "ligning1"
   ]
  },
  {
   "cell_type": "code",
   "execution_count": null,
   "metadata": {},
   "outputs": [],
   "source": [
    "# Løs differensialligningen:\n",
    "løsning1 = sym.dsolve(ligning1, ics=start)\n",
    "løsning1"
   ]
  },
  {
   "cell_type": "code",
   "execution_count": null,
   "metadata": {},
   "outputs": [],
   "source": [
    "# Vi kan også skrive likningen på logaritmisk form:\n",
    "løsning11 = sym.Eq(sym.log(løsning1.lhs), sym.log(løsning1.rhs))\n",
    "sym.simplify(løsning11)"
   ]
  },
  {
   "cell_type": "markdown",
   "metadata": {},
   "source": [
    "Den integrerte hastighetsloven for en 1. ordens reaksjon blir altså,\n",
    "\n",
    "$$ \\ln [\\text{A}] = \\ln [\\text{A}]_0 - kt.$$\n",
    "\n",
    "Vi kan også prøve å finne halveringstiden ($t_{1/2}$) som er tiden det tar til halvparten av opprinnelig mengde av A er igjen. Dvs. tiden som oppfyller:\n",
    "\n",
    "$$ \\ln [\\text{A}] = \\ln \\left( \\frac{[\\text{A}]_0}{2} \\right) = \\ln [\\text{A}]_0 - kt_{1/2}.$$"
   ]
  },
  {
   "cell_type": "code",
   "execution_count": null,
   "metadata": {},
   "outputs": [],
   "source": [
    "# Ved halveringstiden er halvparten av opprinnelig mengde A igjen, dvs A(t) = A0 / 2.\n",
    "# Vi skriver dette som en ligning:\n",
    "halv_1 = løsning1.subs({A: A0/2})\n",
    "halv_1"
   ]
  },
  {
   "cell_type": "code",
   "execution_count": null,
   "metadata": {},
   "outputs": [],
   "source": [
    "# Og løser den:\n",
    "sym.solve(halv_1)"
   ]
  },
  {
   "cell_type": "markdown",
   "metadata": {},
   "source": [
    "Her finner vi at halveringstiden oppfyller,\n",
    "\n",
    "$$ k = \\frac{\\ln 2}{t_{1/2}} \\implies t_{1/2} = \\frac{\\ln 2}{k} .$$\n",
    "\n",
    "(Vi merker oss at denne halveringstiden er *uavhengig* av startkonsentrasjonen.)"
   ]
  },
  {
   "cell_type": "markdown",
   "metadata": {},
   "source": [
    "## 2. ordens reaksjon\n",
    "For en 2. ordens reaksjon setter vi $\\alpha = 2$ og får da følgende differensialligning,\n",
    "\n",
    "$$-\\frac{\\text{d} [\\text{A}]}{\\text{d} t} = k [\\text{A}]^2.$$"
   ]
  },
  {
   "cell_type": "code",
   "execution_count": null,
   "metadata": {},
   "outputs": [],
   "source": [
    "# Definer differensialligningen vi skal løse:\n",
    "ligning2 = sym.Eq(-sym.Derivative(A,t), k * A**2)\n",
    "# Skriv ut ligningen for å sjekke at den ser riktig ut:\n",
    "ligning2"
   ]
  },
  {
   "cell_type": "code",
   "execution_count": null,
   "metadata": {},
   "outputs": [],
   "source": [
    "# Løs differensialligningen:\n",
    "løsning2 = sym.dsolve(ligning2, ics=start)\n",
    "løsning2"
   ]
  },
  {
   "cell_type": "markdown",
   "metadata": {},
   "source": [
    "Denne løsningen ser kanskje litt forskjellig ut fra læreboken, la oss skrive den om:"
   ]
  },
  {
   "cell_type": "code",
   "execution_count": null,
   "metadata": {},
   "outputs": [],
   "source": [
    "løsning22 = sym.Eq(1 / løsning2.lhs, 1 / løsning2.rhs)\n",
    "løsning22"
   ]
  },
  {
   "cell_type": "markdown",
   "metadata": {},
   "source": [
    "Den integrerte hastighetsloven for en 2. ordens reaksjon blir altså,\n",
    "\n",
    "$$ \\frac{1}{[\\text{A}]} = \\frac{1}{[\\text{A}]_0} + kt.$$\n",
    "\n",
    "Vi kan også prøve å finne halveringstiden ($t_{1/2}$) som er tiden det tar til halvparten av opprinnelig mengde av A er igjen. Dvs. tiden som oppfyller:\n",
    "\n",
    "$$ \\frac{1}{[\\text{A}]} = \\frac{1}{\\frac{[\\text{A}]_0}{2}} = \\frac{2}{[\\text{A}]_0} = \\frac{1}{[\\text{A}]_0} + kt_{1/2}.$$"
   ]
  },
  {
   "cell_type": "code",
   "execution_count": null,
   "metadata": {},
   "outputs": [],
   "source": [
    "# Ved halveringstiden er halvparten av opprinnelig mengde A igjen, dvs A(t) = A0 / 2.\n",
    "# Vi skriver dette som en ligning:\n",
    "halv_2 = løsning22.subs({A: A0/2})\n",
    "halv_2"
   ]
  },
  {
   "cell_type": "code",
   "execution_count": null,
   "metadata": {},
   "outputs": [],
   "source": [
    "# Og løser den:\n",
    "sym.solve(halv_2)"
   ]
  },
  {
   "cell_type": "markdown",
   "metadata": {},
   "source": [
    "Halveringstiden er gitt ved,\n",
    "\n",
    "$$[\\text{A}_0] = \\frac{1}{k t_{1/2}} \\implies t_{1/2} = \\frac{1}{k [\\text{A}_0]}.$$"
   ]
  },
  {
   "cell_type": "markdown",
   "metadata": {},
   "source": [
    "## Oppsummering\n",
    "\n",
    "Vi har funnet integrerte lover ved å løse differensialligningene. Vi fant: \n",
    "\n",
    "| Orden | Integrert hastighetslov                                     | Halveringstid                            |\n",
    "|-------|-------------------------------------------------------------|------------------------------------------|\n",
    "| 0     | $[\\text{A}]_t = [\\text{A}]_0  - k t$                        | $t_{1/2} = \\frac{[\\text{A}]_0}{2 k}$     |\n",
    "| 1     | $[\\text{A}]_t = [\\text{A}]_0 \\text{e}^{-kt}$                | $t_{1/2} = \\frac{\\ln 2}{k}$              |\n",
    "| 2     | $\\frac{1}{[\\text{A}]_t} = \\frac{1}{[\\text{A}]_0} + kt$      | $t_{1/2} = \\frac{1}{k [\\text{A}]_0}$     |\n",
    "| 3     | $\\frac{1}{[\\text{A}]_t^2} = \\frac{1}{[\\text{A}]_0^2} + 2kt$ | $t_{1/2} = \\frac{3}{2 k [\\text{A}]_0^2}$ |\n",
    "\n",
    "I tabellen over har vi også tatt med en 3. ordens hastighetslov. Kan du vise at dette stemmer (f.eks. ved å endre Python-koden over)? Og, litt ekstra utfordring for de som har matematikk-fag med differensialligninger, kan du løse det generelt for en orden $n \\geq 2$? Dvs. for\n",
    "\n",
    "$$-\\frac{\\text{d} [\\text{A}]}{\\text{d} t} = k [\\text{A}]^n, \\quad n \\geq 2$$\n",
    "\n",
    "\n",
    "kan du finne en generell integrert hastighetslov?"
   ]
  }
 ],
 "metadata": {
  "kernelspec": {
   "display_name": "Python 3 (ipykernel)",
   "language": "python",
   "name": "python3"
  },
  "language_info": {
   "codemirror_mode": {
    "name": "ipython",
    "version": 3
   },
   "file_extension": ".py",
   "mimetype": "text/x-python",
   "name": "python",
   "nbconvert_exporter": "python",
   "pygments_lexer": "ipython3",
   "version": "3.9.6"
  }
 },
 "nbformat": 4,
 "nbformat_minor": 4
}
