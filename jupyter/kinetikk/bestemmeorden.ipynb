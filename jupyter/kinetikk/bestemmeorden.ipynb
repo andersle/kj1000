{
 "cells": [
  {
   "cell_type": "markdown",
   "metadata": {},
   "source": [
    "# Bruk av integrerte hastighetslover for å bestemme orden og hastighetskonstant\n",
    "(Denne oppgaven likner på oppgave 2 på eksamen, vår 2020.)\n",
    "\n",
    "Vi studerer hastigheten til reaksjonen,\n",
    "\n",
    "$$2 \\text{C}_4 \\text{H}_6\\, (\\text{g}) \\to \\text{C}_8 \\text{H}_{12}\\, (\\text{g}),$$\n",
    "\n",
    "og vi har målt følgende konsentrasjoner ved ulike tidspunkt (og konstant temperatur):\n",
    "\n",
    "| \\[C$_4$H$_6$\\] (mol/L) | tid (s) |\n",
    "|------------------------|---------|\n",
    "| 0.01000                | 0       |\n",
    "| 0.00625                | 1000    |\n",
    "| 0.00476                | 1800    |\n",
    "| 0.00370                | 2800    |\n",
    "| 0.00313                | 3600    |\n",
    "| 0.00270                | 4400    |\n",
    "| 0.00241                | 5200    |\n",
    "| 0.00208                | 6200    |\n",
    "\n",
    "Vi vet at denne reaksjonen er enten av 1. orden eller av 2. orden. Vi skal nå bestemme\n",
    "hva reaksjonens orden er, og vi skal bestemme hastighetskonstanten.\n",
    "\n",
    "## Reaksjonens orden\n",
    "Vi vet altså ikke hva reaksjonsordenen er, men vi vet at:\n",
    "\n",
    "- For 1. ordens reaksjon, så avhenger konsentrasjonen av tiden etter:\n",
    "  $$\\ln [\\text{A}]_t = \\ln [\\text{A}]_0 - kt.$$\n",
    "  Det betyr at logaritmen av konsentrasjonen endrer seg lineært med tiden.\n",
    "  Dersom vi plotter logaritmen av de målte konsentrasjonene mot tiden, og vi får en rett linje, så\n",
    "  tyder dette på at vi har en 1. ordens reaksjon.\n",
    "- For 2. ordens reaksjon, så avhenger konsentrasjonen av tiden etter:\n",
    "  $$\\frac{1}{[\\text{A}]_t} = \\frac{1}{[\\text{A}]_0} + kt.$$\n",
    "  Det betyr at den inverse konsentrasjonen ($\\frac{1}{[\\text{A}]_t}$) endrer seg lineært med tiden.\n",
    "  Dersom vi plotter den inverse konsentrasjonen mot tiden, og vi får en rett linje, så tyder dette på\n",
    "  at vi har en 2. ordens reaksjon.\n",
    "  \n",
    "La oss nå plotte disse to alternative og sjekke i hvilket tilfelle vi får en rett linje."
   ]
  },
  {
   "cell_type": "code",
   "execution_count": null,
   "metadata": {},
   "outputs": [],
   "source": [
    "# Begynn med å lage en tabell over konsentrasjonene:\n",
    "import pandas as pd\n",
    "tabell = pd.DataFrame(\n",
    "    [\n",
    "        (0.0100, 0),\n",
    "        (0.00625, 1000),\n",
    "        (0.00476, 1800),\n",
    "        (0.00370, 2800),\n",
    "        (0.00313, 3600),\n",
    "        (0.00270, 4400),\n",
    "        (0.00241, 5200),\n",
    "        (0.00208, 6200),\n",
    "    ],\n",
    "    columns=['konsentrasjon', 'tid']\n",
    ")\n",
    "tabell"
   ]
  },
  {
   "cell_type": "code",
   "execution_count": null,
   "metadata": {},
   "outputs": [],
   "source": [
    "# Importer bibliotek vi trenger for plotting og numeriske operasjoner:\n",
    "import numpy as np\n",
    "from matplotlib import pyplot as plt\n",
    "plt.style.use('seaborn-notebook')\n",
    "%matplotlib notebook"
   ]
  },
  {
   "cell_type": "code",
   "execution_count": null,
   "metadata": {
    "scrolled": false
   },
   "outputs": [],
   "source": [
    "# Lag plott av de målte verdiene:\n",
    "konsentrasjon = tabell['konsentrasjon'].values\n",
    "tid = tabell['tid'].values\n",
    "figi, axes = plt.subplots(constrained_layout=True, ncols=2)\n",
    "# Plott først logaritmen til konsentrasjonen mot tiden:\n",
    "axes[0].plot(tid, np.log(konsentrasjon), marker='o', lw=3, ms=12)\n",
    "axes[0].set(xlabel='tid / s', ylabel='$\\ln [A]$')\n",
    "axes[0].set_aspect(1 / axes[0].get_data_ratio())\n",
    "# Plott så invers konsentrasjon:\n",
    "axes[1].plot(tid, 1/konsentrasjon, marker='o', lw=3, ms=12)\n",
    "axes[1].set(xlabel='tid / s', ylabel='1/[A] / L/mol');\n",
    "axes[1].set_aspect(1 / axes[1].get_data_ratio())"
   ]
  },
  {
   "cell_type": "markdown",
   "metadata": {},
   "source": [
    "Når vi sammenlikner de to figurene, så ser vi at vi ikke har en rett linje når vi plotter logaritmen til konsentrasjonen, men vi har en rett linje når vi plotter invers konsentrasjon! Vi konkluderer derfor med at reaksjonen er av **2. orden**.\n",
    "\n",
    "Vi trenger så å finne hastighetskonstanten. Det kan vi gjøre ved å tilpasse en rett linje. For en 2. ordens\n",
    "reaksjon har vi den integrerte hastighetsloven:\n",
    "\n",
    "$$\\frac{1}{[\\text{A}]_t} = \\frac{1}{[\\text{A}]_0} + kt.$$\n",
    "\n",
    "Som tidligere nevnt gir dette en rett linje når vi plotter invers konsentrasjon mot tiden. Vi ser også at\n",
    "stigningstallet til den rette linjen blir lik $k$."
   ]
  },
  {
   "cell_type": "code",
   "execution_count": null,
   "metadata": {},
   "outputs": [],
   "source": [
    "# Tilpass rett linje for å finne \"k\":\n",
    "linje = np.polyfit(tid, 1/konsentrasjon, 1)\n",
    "print(f'Hastighetskonstanten er: k = {linje[0]:.3g} L/(mol*s)')"
   ]
  },
  {
   "cell_type": "code",
   "execution_count": null,
   "metadata": {},
   "outputs": [],
   "source": [
    "# La oss sjekke hvor bra linjen er:\n",
    "linje_y = np.polyval(linje, tid)\n",
    "SSE = np.sum((1/konsentrasjon - linje_y)**2)\n",
    "SST = np.sum((1/konsentrasjon - np.mean(1/konsentrasjon))**2)\n",
    "R2 = 1 - SSE / SST \n",
    "figi, axi = plt.subplots(constrained_layout=True)\n",
    "axi.scatter(tid, 1/konsentrasjon, marker='o', label='Målepunkter', s=150, color='0.2')\n",
    "axi.plot(tid, linje_y, label=f'Tilpasset linje: y = {linje[1]:.3g} + {linje[0]:.3g} * t\\n(R² = {R2:.4g})', lw=3)\n",
    "axi.set(xlabel='tid / s', ylabel='1/[A]')\n",
    "axi.legend();"
   ]
  }
 ],
 "metadata": {
  "kernelspec": {
   "display_name": "Python 3 (ipykernel)",
   "language": "python",
   "name": "python3"
  },
  "language_info": {
   "codemirror_mode": {
    "name": "ipython",
    "version": 3
   },
   "file_extension": ".py",
   "mimetype": "text/x-python",
   "name": "python",
   "nbconvert_exporter": "python",
   "pygments_lexer": "ipython3",
   "version": "3.9.6"
  }
 },
 "nbformat": 4,
 "nbformat_minor": 4
}
