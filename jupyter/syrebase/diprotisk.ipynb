{
 "cells": [
  {
   "cell_type": "markdown",
   "id": "700cfed8",
   "metadata": {},
   "source": [
    "# Likevektskonsentrasjoner for en diprotisk syre\n",
    "Her skal vi gjøre eksempel 16.10 fra læreboken (side 567) og finne likevektskonsentrasjoner for 0.10 M av den diprotiske syren oksalsyre ($\\text{H}_2 \\text{C}_2 \\text{O}_4$):\n",
    "\n",
    "$$\\text{H}_2 \\text{C}_2 \\text{O}_4 \\rightleftharpoons \\text{HC}_2 \\text{O}_4^{-} + \\text{H}^{+},\\quad K_{a,1} = 6.5 \\times 10^{-2}$$\n",
    "\n",
    "$$\\text{HC}_2 \\text{O}_4^- \\rightleftharpoons \\text{C}_2 \\text{O}_4^{2-} + \\text{H}^{+},\\quad K_{a,1} = 6.1 \\times 10^{-5}$$\n",
    "\n",
    "Vi skal løse denne oppgaven ved å bruke Python. For å kunne regne symbolsk skal vi bruke et bibliotek som heter [SymPy](https://www.sympy.org/)."
   ]
  },
  {
   "cell_type": "code",
   "execution_count": null,
   "id": "36cc2922",
   "metadata": {},
   "outputs": [],
   "source": [
    "import sympy as sym  # Importer SymPy"
   ]
  },
  {
   "cell_type": "code",
   "execution_count": null,
   "id": "e03ad36c",
   "metadata": {},
   "outputs": [],
   "source": [
    "# Definer størrelsene vi kjenner\n",
    "START_KONSENTRASJON = 0.10\n",
    "KA1 = 6.5e-2\n",
    "KA2 = 6.1e-5\n",
    "Kw = 1e-14  # For vann"
   ]
  },
  {
   "cell_type": "markdown",
   "id": "419eda5c",
   "metadata": {},
   "source": [
    "For å bruke SymPy definerer vi de ukjente størrelsene som SymPy-[symboler](https://docs.sympy.org/latest/tutorial/intro.html#a-more-interesting-example):"
   ]
  },
  {
   "cell_type": "code",
   "execution_count": null,
   "id": "79f27cf2",
   "metadata": {},
   "outputs": [],
   "source": [
    "# Vi definerer de ukjente størrelsene. For å spare litt skriving bruker vi\n",
    "# - HHA for syren H2C2O4\n",
    "# - HA for syren HCO4\n",
    "# - A for den korresponderende basen C2O4^2-\n",
    "# - Vi tar også med OH- siden eksempelet bruker den\n",
    "c_HHA, c_HA, c_A, c_H, c_OH = sym.symbols('c_HHA c_HA c_A c_H c_OH')"
   ]
  },
  {
   "cell_type": "markdown",
   "id": "6f16f887",
   "metadata": {},
   "source": [
    "Vi har nå definert konsentrasjonene. Disse er foreløpig ukjente. For å bestemme de, så trenger vi noen likninger som relaterer de til hverandre. Mulige slike ligninger er:\n",
    "- syre-basekonstanten\n",
    "- elektronøytralitet\n",
    "- massebalanser"
   ]
  },
  {
   "cell_type": "code",
   "execution_count": null,
   "id": "0cd1f4fd",
   "metadata": {},
   "outputs": [],
   "source": [
    "# La oss begynne med syre-basekonstantene.\n",
    "ligning1 = sym.Eq((c_HA * c_H)/c_HHA, KA1)\n",
    "ligning2 = sym.Eq((c_A * c_H)/c_HA, KA2)\n",
    "ligning3 = sym.Eq(c_H * c_OH, Kw)"
   ]
  },
  {
   "cell_type": "code",
   "execution_count": null,
   "id": "fab8049a",
   "metadata": {},
   "outputs": [],
   "source": [
    "ligning1"
   ]
  },
  {
   "cell_type": "code",
   "execution_count": null,
   "id": "9b56aa43",
   "metadata": {},
   "outputs": [],
   "source": [
    "ligning2"
   ]
  },
  {
   "cell_type": "code",
   "execution_count": null,
   "id": "0d8a5c87",
   "metadata": {},
   "outputs": [],
   "source": [
    "ligning3"
   ]
  },
  {
   "cell_type": "markdown",
   "id": "ed35a4b9",
   "metadata": {},
   "source": [
    "Den neste ligningen vi kan benytte oss av, er at det må være like mye negativ og positiv ladning. Her er det bare tre ladede forbindelser:\n",
    "- negative: $\\text{HC}_2 \\text{O}_4^{-}$, $\\text{C}_2 \\text{O}_4^{2-}$ (merk at denne har ladning $-2$) og $[\\text{OH}^-]$\n",
    "- positive: $\\text{H}^+$\n",
    "\n",
    "Vi setter positive = negative og får: $2 [\\text{C}_2 \\text{O}_4]^{2-} + [\\text{HC}_2 \\text{O}_4]^- + [\\text{OH}]^-  = [\\text{H}]^+$. (Merk igjen faktoren $2$ som tar hensyn til ladningen på $-2$)\n",
    "\n",
    "La oss skrive det som en ligning med symbolene vi har definert:"
   ]
  },
  {
   "cell_type": "code",
   "execution_count": null,
   "id": "e1c6b873",
   "metadata": {},
   "outputs": [],
   "source": [
    "# Elektronøytralitet:\n",
    "ligning4 = sym.Eq(c_HA + 2 * c_A + c_OH, c_H)"
   ]
  },
  {
   "cell_type": "code",
   "execution_count": null,
   "id": "8f476ae7",
   "metadata": {},
   "outputs": [],
   "source": [
    "ligning4"
   ]
  },
  {
   "cell_type": "markdown",
   "id": "c68bbb6e",
   "metadata": {},
   "source": [
    "Når det gjelder massebalanse, så har vi mange valg. La oss bruke massen av karbon. Vi vet at det ikke dannes noe ekstra masse i denne reaksjonen. Det betyr at massen av karbon vi startet med er lik massen av karbon ved likevekt. Skrevet med konsentrasjoner blir dette:\n",
    "\n",
    "$$[\\text{H}_2 \\text{C}_2 \\text{O}_4]_{\\text{start}} = [\\text{H}_2 \\text{C}_2 \\text{O}_4]_{\\text{likevekt}} + [\\text{HC}_2 \\text{O}_4^-]_{\\text{likevekt}} + [\\text{C}_2 \\text{O}_4^{2-}]_{\\text{likevekt}}$$\n",
    "\n",
    "\n",
    "La oss formulere det som en ligning:"
   ]
  },
  {
   "cell_type": "code",
   "execution_count": null,
   "id": "b5ea259f",
   "metadata": {},
   "outputs": [],
   "source": [
    "# Massebalanse for oksygen:\n",
    "ligning5 = sym.Eq(START_KONSENTRASJON, c_HHA + c_HA + c_A)"
   ]
  },
  {
   "cell_type": "code",
   "execution_count": null,
   "id": "da726a84",
   "metadata": {},
   "outputs": [],
   "source": [
    "ligning5"
   ]
  },
  {
   "cell_type": "markdown",
   "id": "3f064507",
   "metadata": {},
   "source": [
    "Vi har nå 5 ligninger og vi har 5 ukjente. Dette kan vi (eller i dette tilfellet, SymPy) løse. Her skal vi be om en numerisk løsning siden dette er raskere enn å få SymPy til å regne symbolsk.\n",
    "\n",
    "For å finne en numerisk løsning, må vi gjette på hva konsentrasjonene kan være. Disse gjettene bruker SymPy for å finne en bedre løsning. Her prøver vi oss med at:\n",
    "- lite $\\text{H}_2 \\text{C}_2 \\text{O}_4$ dissosierer, så denne er kanskje ca. lik startkonsentrasjonen på 0.1 M\n",
    "- noe $\\text{HC}_2 \\text{O}_4^{-}$, $\\text{C}_2 \\text{O}_4^{2-}$  og $\\text{H}^{+}$ dannes. La oss bare si at de er ca. 1/10 av startkonsentrasjonen (0.01 M).\n",
    "- det vil være lite $\\text{OH}^-$ ved likevekt siden vi ser på en syre. For å være konsistent med konsentrasjonen vi satte over for $\\text{H}^+$, la oss sette den til $10^{-12}$."
   ]
  },
  {
   "cell_type": "code",
   "execution_count": null,
   "id": "df9deb8b",
   "metadata": {},
   "outputs": [],
   "source": [
    "løsning = sym.nsolve(\n",
    "    [ligning1, ligning2, ligning3, ligning4, ligning5],\n",
    "    [c_HHA, c_HA, c_A, c_H, c_OH],\n",
    "    [0.1, 0.01, 0.01, 0.01, 1e-12]#, dict=True)\n",
    ")"
   ]
  },
  {
   "cell_type": "code",
   "execution_count": null,
   "id": "929174d4",
   "metadata": {},
   "outputs": [],
   "source": [
    "løsning"
   ]
  },
  {
   "cell_type": "markdown",
   "id": "e7a63280",
   "metadata": {},
   "source": [
    "OK, her ser vi at de løsningene jeg gjettet på ikke var så veldig gode. Spesielt bommet jeg veldig på $[\\text{C}_2 \\text{O}_4^{2-}]$. Men SymPy fant likevel en løsning! Når vi løser likninger numerisk på denne måten, kan svaret avhenge av hva vi gjetter på at konsentrasjonene ca. er. SymPy bruker disse gjettene for å finne bedre løsninger, men hvis vi er uheldige med gjettene, så kan vi ende opp med f.eks. negative konsentrasjoner. Her gikk det heldigvis bra. La oss oppsummere løsningene:"
   ]
  },
  {
   "cell_type": "code",
   "execution_count": null,
   "id": "f7d5703d",
   "metadata": {},
   "outputs": [],
   "source": [
    "print(f'[H2C2O4]: {løsning[0]:.3g} M')\n",
    "print(f'[HC2O4^-]: {løsning[1]:.3g} M')\n",
    "print(f'[H^+]: {løsning[3]:.3g} M')\n",
    "print(f'[C2O4^2-]: {løsning[2]:.3e} M')\n",
    "print(f'[OH^-]: {løsning[4]:.3g} M')"
   ]
  },
  {
   "cell_type": "markdown",
   "id": "80fa87dc",
   "metadata": {},
   "source": [
    "Til sammenlikning sier læreboken:\n",
    "- $[\\text{H}_2 \\text{C}_2 \\text{O}_4] = 0.046$ M\n",
    "- $[\\text{HC}_2 \\text{O}_4^{-}] = 0.054$ M\n",
    "- $[\\text{H}^{+}] = 0.054$ M\n",
    "- $[\\text{C}_2 \\text{O}_4^{2-}] = 6.1 \\times 10^{-5}$ M\n",
    "- $[\\text{OH}^{-}] = 1.9 \\times 10^{-13}$ M\n",
    "\n",
    "Siden vi er NTNU studenter, så stoler vi ikke helt på løsningen ennå. Vi må i det minste sjekke at alle likningene vi definert over er oppfylt. Vi kan gjøre dette ved å sette i verdier og sjekke at venstre side av likningene er ca. lik høyre side av likningene. Vi kan bruke `ligning.rhs` for å få tilgang til høyre side (\"right-hand-side\") og `ligning.lhs` for å få tilgang til venstre side (\"left-hand-side\"). La oss trekke venstre fra høyre side for alle likningene og sjekke at forskjellen blir ca. 0:"
   ]
  },
  {
   "cell_type": "code",
   "execution_count": null,
   "id": "dba40848",
   "metadata": {},
   "outputs": [],
   "source": [
    "test1 = ligning1.lhs.evalf(subs={c_HHA: løsning[0], c_HA: løsning[1], c_H: løsning[3]}) - ligning1.rhs\n",
    "test2 = ligning2.lhs.evalf(subs={c_HA: løsning[1], c_A: løsning[2], c_H: løsning[3]}) - ligning2.rhs\n",
    "test3 = ligning3.lhs.evalf(subs={c_H: løsning[3], c_OH: løsning[4]}) - ligning3.rhs\n",
    "test4 = (ligning4.lhs.evalf(subs={c_HA: løsning[1], c_A: løsning[2], c_OH: løsning[4]}) -\n",
    "         ligning4.rhs.evalf(subs={c_H: løsning[3]}))\n",
    "test5 = ligning5.lhs - ligning5.rhs.evalf(subs={c_HHA: løsning[0], c_HA: løsning[1],c_A: løsning[2]})\n",
    "sum_feil = 0.0\n",
    "for i, test in enumerate((test1, test2, test3, test4, test5)):\n",
    "    print(f'lhs - rhs, likning{i+1}: {test}')\n",
    "    sum_feil += abs(test)\n",
    "print(f'Summert feil: {sum_feil}')"
   ]
  },
  {
   "cell_type": "markdown",
   "id": "ce22423c",
   "metadata": {},
   "source": [
    "Alle disse er forskjellene er små (største er $6.9 \\times 10^{-18}$ på min datamaksin) og vi er derfor fornøyde med den numeriske løsningen. Helt til slutt, la oss sjekke om vår løsning er mer nøyaktig enn læreboken:"
   ]
  },
  {
   "cell_type": "code",
   "execution_count": null,
   "id": "770e6011",
   "metadata": {},
   "outputs": [],
   "source": [
    "løsning_lærebok = [0.046, 0.054, 6.1e-5, 0.054, 1.9e-13]\n",
    "test1 = (ligning1.lhs.evalf(subs={c_HHA: løsning_lærebok[0], c_HA: løsning_lærebok[1], c_H: løsning_lærebok[3]}) -\n",
    "         ligning1.rhs)\n",
    "test2 = (ligning2.lhs.evalf(subs={c_HA: løsning_lærebok[1], c_A: løsning_lærebok[2], c_H: løsning_lærebok[3]}) -\n",
    "         ligning2.rhs)\n",
    "test3 = ligning3.lhs.evalf(subs={c_H: løsning_lærebok[3], c_OH: løsning_lærebok[4]}) - ligning3.rhs\n",
    "test4 = (ligning4.lhs.evalf(subs={c_HA: løsning_lærebok[1], c_A: løsning_lærebok[2], c_OH: løsning_lærebok[4]}) -\n",
    "         ligning4.rhs.evalf(subs={c_H: løsning_lærebok[3]}))\n",
    "test5 = (ligning5.lhs -\n",
    "         ligning5.rhs.evalf(subs={c_HHA: løsning_lærebok[0], c_HA: løsning_lærebok[1],c_A: løsning_lærebok[2]}))\n",
    "sum_feil_bok = 0.0\n",
    "for i, test in enumerate((test1, test2, test3, test4, test5)):\n",
    "    print(f'lhs - rhs, lærebok, likning{i+1}: {test}')\n",
    "    sum_feil_bok += abs(test)\n",
    "print(f'Summert feil: {sum_feil_bok}')"
   ]
  },
  {
   "cell_type": "markdown",
   "id": "35142a45",
   "metadata": {},
   "source": [
    "Vi ser her at vår løsning er mer nøyaktig (mindre total feil) sammenliknet med læreboken."
   ]
  },
  {
   "cell_type": "code",
   "execution_count": null,
   "id": "7bf87995",
   "metadata": {},
   "outputs": [],
   "source": [
    "# Forholdet mellom feilene:\n",
    "sum_feil_bok / sum_feil"
   ]
  }
 ],
 "metadata": {
  "kernelspec": {
   "display_name": "Python 3 (ipykernel)",
   "language": "python",
   "name": "python3"
  },
  "language_info": {
   "codemirror_mode": {
    "name": "ipython",
    "version": 3
   },
   "file_extension": ".py",
   "mimetype": "text/x-python",
   "name": "python",
   "nbconvert_exporter": "python",
   "pygments_lexer": "ipython3",
   "version": "3.9.6"
  }
 },
 "nbformat": 4,
 "nbformat_minor": 5
}
