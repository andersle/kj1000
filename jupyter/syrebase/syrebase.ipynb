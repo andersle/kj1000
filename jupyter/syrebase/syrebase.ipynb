{
 "cells": [
  {
   "cell_type": "markdown",
   "id": "e9bc611c",
   "metadata": {},
   "source": [
    "# Likevektskonsentrasjoner i en syre-base likevekt\n",
    "Her skal vi regne på en syre-baselikevekt, vi tar utgangspunkt i eksempel 16.8 (side 562) fra læreboken der vi blir bedt om å finne pH i 0.036 M HNO$_2$:\n",
    "\n",
    "$$\\text{HNO}_2 \\rightleftharpoons \\text{NO}_2^{-} + \\text{H}^{+},$$\n",
    "\n",
    "$$K_{a} = 4.5 \\times 10^{-4}.$$\n",
    "\n",
    "Vi skal løse denne oppgaven ved å bruke Python. For å kunne regne symbolsk skal vi bruke et bibliotek som heter [SymPy](https://www.sympy.org/)."
   ]
  },
  {
   "cell_type": "code",
   "execution_count": null,
   "id": "03e414a4",
   "metadata": {},
   "outputs": [],
   "source": [
    "import sympy as sym  # Importer SymPy"
   ]
  },
  {
   "cell_type": "code",
   "execution_count": null,
   "id": "2d44802a",
   "metadata": {},
   "outputs": [],
   "source": [
    "# Definer størrelsene vi kjenner\n",
    "START_KONSENTRASJON = 0.036\n",
    "KA = 4.5e-4"
   ]
  },
  {
   "cell_type": "markdown",
   "id": "ff1826ed",
   "metadata": {},
   "source": [
    "For å bruke SymPy definerer vi de ukjente størrelsene som SymPy-[symboler](https://docs.sympy.org/latest/tutorial/intro.html#a-more-interesting-example):"
   ]
  },
  {
   "cell_type": "code",
   "execution_count": null,
   "id": "bdc7f859",
   "metadata": {},
   "outputs": [],
   "source": [
    "# Vi definerer de ukjente størrelsene. For å spare litt skriving bruker vi\n",
    "# - HA for syren HNO2\n",
    "# - A for den korresponderende basen NO_2^-\n",
    "c_HA, c_A, c_H = sym.symbols('c_HA c_A c_H')"
   ]
  },
  {
   "cell_type": "markdown",
   "id": "4b2d2666",
   "metadata": {},
   "source": [
    "Vi har nå definert konsentrasjonene. Disse er foreløpig ukjente. For å bestemme de, så trenger vi noen likninger som relaterer de til hverandre. Mulige slike ligninger er:\n",
    "- syre-basekonstanten\n",
    "- elektronøytralitet\n",
    "- massebalanser"
   ]
  },
  {
   "cell_type": "code",
   "execution_count": null,
   "id": "58f7d633",
   "metadata": {},
   "outputs": [],
   "source": [
    "# La oss begynne med syre-basekonstanten. # Her sier vi at (c_A * c_H)/c_HA skal være lik (Eq) KA:\n",
    "ligning1 = sym.Eq((c_A * c_H)/c_HA, KA)"
   ]
  },
  {
   "cell_type": "markdown",
   "id": "9cf51d25",
   "metadata": {},
   "source": [
    "Vi kan be SymPy skrive ut hva denne ligningen er, for å sjekke at den ser ut som vi hadde tenkt:"
   ]
  },
  {
   "cell_type": "code",
   "execution_count": null,
   "id": "01cc998c",
   "metadata": {},
   "outputs": [],
   "source": [
    "ligning1"
   ]
  },
  {
   "cell_type": "markdown",
   "id": "8b21ab2d",
   "metadata": {},
   "source": [
    "Den neste ligningen vi kan benytte oss av, er at det må være like mye negativ og positiv ladning. Her er det bare to ladede forbindelser, og de har motsatt forteng. Det betyr at $[\\text{A}]^- = [\\text{H}]^+$. La oss skrive det som en ligning:"
   ]
  },
  {
   "cell_type": "code",
   "execution_count": null,
   "id": "50a58441",
   "metadata": {},
   "outputs": [],
   "source": [
    "# Elektronøytralitet:\n",
    "ligning2 = sym.Eq(c_A, c_H)"
   ]
  },
  {
   "cell_type": "code",
   "execution_count": null,
   "id": "e1445516",
   "metadata": {},
   "outputs": [],
   "source": [
    "# Skriv ut denne ligningen også, for å dobbeltsjekke:\n",
    "ligning2"
   ]
  },
  {
   "cell_type": "markdown",
   "id": "0620b95e",
   "metadata": {},
   "source": [
    "Når det gjelder massebalanse, så har vi mange valg. La oss bruke massen av nitrogen. Vi vet at det ikke dannes noe ekstra masse i denne reaksjonen. Det betyr at massen av nitrogen vi startet med er lik massen av nitrogen ved likevekt. Det som følger nå er egentlig det samme som å lage en tabell over endringene, og så si at $x$ mol reagerer til likevekt. Da skriver vi $[\\text{HNO}_3]_{\\text{likevekt}} = [\\text{HNO}_3]_{\\text{start}} -  [\\text{NO}_2^-]_{\\text{likevekt}}$ eller $[\\text{HNO}_3]_{\\text{likevekt}} = [\\text{HNO}_3]_{\\text{start}} -  x$.\n",
    "\n",
    "Men, la oss se hvordan vi kan gjøre en massebalanse:\n",
    "- Massen vi startet med er antall mol av HNO$_2$ vi startet med, multiplisert med molmassen ($M$)\n",
    "  til nitrogen.\n",
    "- Massen vi har ved likevekt er antall mol HNO$_2$ ved likevekt multiplisert med $M$ pluss antall mol\n",
    "  av NO$_2^-$ ved likevekt multiplisert med $M$.\n",
    "\n",
    "Masse nitrogen ved start = masse nitrogen ved likevekt. Med symboler:\n",
    "\n",
    "$$M \\times n_{\\text{HNO}_3, \\text{start}} = M \\times n_{\\text{HNO}_3, \\text{likevekt}} + M \\times n_{\\text{NO}_2^-, \\text{likevekt}}$$\n",
    "\n",
    "Her kan vi dele bort $M$ og dele på et volum for å gjøre om til konsentrasjon:\n",
    "\n",
    "$$[\\text{HNO}_3]_{\\text{start}} = [\\text{HNO}_3]_{\\text{likevekt}} + [\\text{NO}_2^-]_{\\text{likevekt}} $$\n",
    "\n",
    "\n",
    "La oss formulere det som en ligning:"
   ]
  },
  {
   "cell_type": "code",
   "execution_count": null,
   "id": "1e1223db",
   "metadata": {},
   "outputs": [],
   "source": [
    "ligning3 = sym.Eq(START_KONSENTRASJON, c_HA + c_A)"
   ]
  },
  {
   "cell_type": "code",
   "execution_count": null,
   "id": "7aeb5cf6",
   "metadata": {},
   "outputs": [],
   "source": [
    "# Skriv ut ligning3 for dobbeltsjekk:\n",
    "ligning3"
   ]
  },
  {
   "cell_type": "markdown",
   "id": "2007db7b",
   "metadata": {},
   "source": [
    "Vi har nå tre ligninger og vi har tre ukjente. Dette kan vi (eller i dette tilfellet, SymPy) løse:"
   ]
  },
  {
   "cell_type": "code",
   "execution_count": null,
   "id": "0334a4ff",
   "metadata": {},
   "outputs": [],
   "source": [
    "løsninger = sym.solve([ligning1, ligning2, ligning3], [c_HA, c_A, c_H], dict=True)"
   ]
  },
  {
   "cell_type": "markdown",
   "id": "a885bf51",
   "metadata": {},
   "source": [
    "Her får vi to løsninger:"
   ]
  },
  {
   "cell_type": "code",
   "execution_count": null,
   "id": "7455193c",
   "metadata": {},
   "outputs": [],
   "source": [
    "løsninger[0]"
   ]
  },
  {
   "cell_type": "code",
   "execution_count": null,
   "id": "3d5068fb",
   "metadata": {},
   "outputs": [],
   "source": [
    "løsninger[1]"
   ]
  },
  {
   "cell_type": "markdown",
   "id": "101d129f",
   "metadata": {},
   "source": [
    "En av løsningene SymPy fant gir negative konsentrasjoner. Dette er en ugyldig løsning og vi beholder bare den som har kun positive løsninger:"
   ]
  },
  {
   "cell_type": "code",
   "execution_count": null,
   "id": "b001b3bf",
   "metadata": {},
   "outputs": [],
   "source": [
    "# Vis gyldige løsninger:\n",
    "gyldige = []\n",
    "for løsning in løsninger:\n",
    "    if all(i > 0 for i in løsning.values()):\n",
    "        gyldige.append(løsning)\n",
    "        print(løsning)"
   ]
  },
  {
   "cell_type": "code",
   "execution_count": null,
   "id": "078c9607",
   "metadata": {},
   "outputs": [],
   "source": [
    "# La oss tilslutt finne pH:\n",
    "ph = -sym.log(gyldige[0].get(c_H), 10)"
   ]
  },
  {
   "cell_type": "code",
   "execution_count": null,
   "id": "e3b82573",
   "metadata": {},
   "outputs": [],
   "source": [
    "# La oss skrive ut verdien, for å få numerisk verdi, ber vi SymPy evaluere uttrykket:\n",
    "print(ph.evalf())"
   ]
  },
  {
   "cell_type": "markdown",
   "id": "42eb2f89",
   "metadata": {},
   "source": [
    "Til sammenlikning sier læreboka: $\\text{pH} = 2.42$."
   ]
  }
 ],
 "metadata": {
  "kernelspec": {
   "display_name": "Python 3 (ipykernel)",
   "language": "python",
   "name": "python3"
  },
  "language_info": {
   "codemirror_mode": {
    "name": "ipython",
    "version": 3
   },
   "file_extension": ".py",
   "mimetype": "text/x-python",
   "name": "python",
   "nbconvert_exporter": "python",
   "pygments_lexer": "ipython3",
   "version": "3.9.6"
  }
 },
 "nbformat": 4,
 "nbformat_minor": 5
}
