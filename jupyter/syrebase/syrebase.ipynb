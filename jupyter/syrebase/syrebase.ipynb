{
 "cells": [
  {
   "cell_type": "markdown",
   "id": "e9bc611c",
   "metadata": {},
   "source": [
    "# Syre-base likevekt\n",
    "Her skal vi regne på en syre-baselikevekt, vi tar utgangspunkt i,\n",
    "\n",
    "$$HA \\rightleftharpoons A^{-1} + H^{+},$$\n",
    "\n",
    "med en gitt syrekonstant $K_{a}$."
   ]
  },
  {
   "cell_type": "code",
   "execution_count": 53,
   "id": "03e414a4",
   "metadata": {},
   "outputs": [],
   "source": [
    "import sympy as sym"
   ]
  },
  {
   "cell_type": "code",
   "execution_count": 54,
   "id": "2d44802a",
   "metadata": {},
   "outputs": [],
   "source": [
    "START_KONSENTRASJON = 0.1\n",
    "KA = 1e-5"
   ]
  },
  {
   "cell_type": "code",
   "execution_count": 55,
   "id": "bdc7f859",
   "metadata": {},
   "outputs": [],
   "source": [
    "c_HA, c_A, c_H = sym.symbols('c_HA c_A c_H')\n",
    "ligning1 = sym.Eq(c_A, c_H)\n",
    "# Elektronøytralitet [A^-] = [H^+]\n",
    "#ligning1 = c_A - c_H\n",
    "# Massebalanse, her skriver vi den som en molbalanse for A:\n",
    "ligning2 = sym.Eq(c_HA + c_A, START_KONSENTRASJON)\n",
    "# Syre-basekonstanten:\n",
    "ligning3 = sym.Eq((c_A * c_H)/c_HA, KA)"
   ]
  },
  {
   "cell_type": "code",
   "execution_count": 62,
   "id": "0334a4ff",
   "metadata": {},
   "outputs": [
    {
     "data": {
      "text/plain": [
       "[{c_HA: 0.101005012499922,\n",
       "  c_A: -0.00100501249992188,\n",
       "  c_H: -0.00100501249992188},\n",
       " {c_HA: 0.0990049875000781,\n",
       "  c_A: 0.000995012499921876,\n",
       "  c_H: 0.000995012499921876}]"
      ]
     },
     "execution_count": 62,
     "metadata": {},
     "output_type": "execute_result"
    }
   ],
   "source": [
    "sym.solve([ligning1, ligning2, ligning3], [c_HA, c_A, c_H], dict=True)"
   ]
  },
  {
   "cell_type": "code",
   "execution_count": 57,
   "id": "1ed3ee2d",
   "metadata": {},
   "outputs": [
    {
     "data": {
      "text/latex": [
       "$\\displaystyle c_{A} = c_{H}$"
      ],
      "text/plain": [
       "Eq(c_A, c_H)"
      ]
     },
     "execution_count": 57,
     "metadata": {},
     "output_type": "execute_result"
    }
   ],
   "source": [
    "ligning1"
   ]
  },
  {
   "cell_type": "code",
   "execution_count": 58,
   "id": "7455193c",
   "metadata": {},
   "outputs": [
    {
     "data": {
      "text/latex": [
       "$\\displaystyle c_{A} + c_{HA} = 0.1$"
      ],
      "text/plain": [
       "Eq(c_A + c_HA, 0.1)"
      ]
     },
     "execution_count": 58,
     "metadata": {},
     "output_type": "execute_result"
    }
   ],
   "source": [
    "ligning2"
   ]
  },
  {
   "cell_type": "code",
   "execution_count": 59,
   "id": "3d5068fb",
   "metadata": {},
   "outputs": [
    {
     "data": {
      "text/latex": [
       "$\\displaystyle \\frac{c_{A} c_{H}}{c_{HA}} = 1.0 \\cdot 10^{-5}$"
      ],
      "text/plain": [
       "Eq(c_A*c_H/c_HA, 1.0e-5)"
      ]
     },
     "execution_count": 59,
     "metadata": {},
     "output_type": "execute_result"
    }
   ],
   "source": [
    "ligning3"
   ]
  },
  {
   "cell_type": "code",
   "execution_count": 70,
   "id": "3d1b59e4",
   "metadata": {},
   "outputs": [
    {
     "ename": "ValueError",
     "evalue": "Eq(c_A, c_H) & Eq(c_A + c_HA, 0.1) & Eq(c_A*c_H/c_HA, 1.0e-5) is not a valid SymPy expression",
     "output_type": "error",
     "traceback": [
      "\u001b[0;31m---------------------------------------------------------------------------\u001b[0m",
      "\u001b[0;31mValueError\u001b[0m                                Traceback (most recent call last)",
      "\u001b[0;32m/tmp/ipykernel_1172987/3037816716.py\u001b[0m in \u001b[0;36m<module>\u001b[0;34m\u001b[0m\n\u001b[0;32m----> 1\u001b[0;31m \u001b[0msym\u001b[0m\u001b[0;34m.\u001b[0m\u001b[0msolveset\u001b[0m\u001b[0;34m(\u001b[0m\u001b[0mligning1\u001b[0m \u001b[0;34m&\u001b[0m \u001b[0mligning2\u001b[0m \u001b[0;34m&\u001b[0m \u001b[0mligning3\u001b[0m\u001b[0;34m,\u001b[0m \u001b[0;34m(\u001b[0m\u001b[0mc_HA\u001b[0m\u001b[0;34m,\u001b[0m \u001b[0mc_A\u001b[0m\u001b[0;34m,\u001b[0m \u001b[0mc_H\u001b[0m\u001b[0;34m)\u001b[0m\u001b[0;34m)\u001b[0m\u001b[0;34m\u001b[0m\u001b[0;34m\u001b[0m\u001b[0m\n\u001b[0m",
      "\u001b[0;32m~/opt/pyenv/py3.9/lib/python3.9/site-packages/sympy/solvers/solveset.py\u001b[0m in \u001b[0;36msolveset\u001b[0;34m(f, symbol, domain)\u001b[0m\n\u001b[1;32m   2188\u001b[0m \u001b[0;34m\u001b[0m\u001b[0m\n\u001b[1;32m   2189\u001b[0m     \u001b[0;32mif\u001b[0m \u001b[0;32mnot\u001b[0m \u001b[0misinstance\u001b[0m\u001b[0;34m(\u001b[0m\u001b[0mf\u001b[0m\u001b[0;34m,\u001b[0m \u001b[0;34m(\u001b[0m\u001b[0mExpr\u001b[0m\u001b[0;34m,\u001b[0m \u001b[0mRelational\u001b[0m\u001b[0;34m,\u001b[0m \u001b[0mNumber\u001b[0m\u001b[0;34m)\u001b[0m\u001b[0;34m)\u001b[0m\u001b[0;34m:\u001b[0m\u001b[0;34m\u001b[0m\u001b[0;34m\u001b[0m\u001b[0m\n\u001b[0;32m-> 2190\u001b[0;31m         \u001b[0;32mraise\u001b[0m \u001b[0mValueError\u001b[0m\u001b[0;34m(\u001b[0m\u001b[0;34m\"%s is not a valid SymPy expression\"\u001b[0m \u001b[0;34m%\u001b[0m \u001b[0mf\u001b[0m\u001b[0;34m)\u001b[0m\u001b[0;34m\u001b[0m\u001b[0;34m\u001b[0m\u001b[0m\n\u001b[0m\u001b[1;32m   2191\u001b[0m \u001b[0;34m\u001b[0m\u001b[0m\n\u001b[1;32m   2192\u001b[0m     \u001b[0;32mif\u001b[0m \u001b[0;32mnot\u001b[0m \u001b[0misinstance\u001b[0m\u001b[0;34m(\u001b[0m\u001b[0msymbol\u001b[0m\u001b[0;34m,\u001b[0m \u001b[0;34m(\u001b[0m\u001b[0mExpr\u001b[0m\u001b[0;34m,\u001b[0m \u001b[0mRelational\u001b[0m\u001b[0;34m)\u001b[0m\u001b[0;34m)\u001b[0m \u001b[0;32mand\u001b[0m  \u001b[0msymbol\u001b[0m \u001b[0;32mis\u001b[0m \u001b[0;32mnot\u001b[0m \u001b[0;32mNone\u001b[0m\u001b[0;34m:\u001b[0m\u001b[0;34m\u001b[0m\u001b[0;34m\u001b[0m\u001b[0m\n",
      "\u001b[0;31mValueError\u001b[0m: Eq(c_A, c_H) & Eq(c_A + c_HA, 0.1) & Eq(c_A*c_H/c_HA, 1.0e-5) is not a valid SymPy expression"
     ]
    }
   ],
   "source": []
  },
  {
   "cell_type": "code",
   "execution_count": null,
   "id": "b001b3bf",
   "metadata": {},
   "outputs": [],
   "source": []
  }
 ],
 "metadata": {
  "kernelspec": {
   "display_name": "Python 3 (ipykernel)",
   "language": "python",
   "name": "python3"
  },
  "language_info": {
   "codemirror_mode": {
    "name": "ipython",
    "version": 3
   },
   "file_extension": ".py",
   "mimetype": "text/x-python",
   "name": "python",
   "nbconvert_exporter": "python",
   "pygments_lexer": "ipython3",
   "version": "3.9.6"
  }
 },
 "nbformat": 4,
 "nbformat_minor": 5
}
