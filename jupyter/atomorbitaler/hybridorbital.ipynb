{
 "cells": [
  {
   "cell_type": "markdown",
   "metadata": {},
   "source": [
    "# sp3-orbital\n",
    "Her finner du noen funksjoner som kan brukes til å plotte løsninger av Schrödingerligningen for hydrogenliknende orbitaler. Her skal vi bare visualisere noen sp3-orbitaler. Denne notebook'en inneholder ikke forklaringer."
   ]
  },
  {
   "cell_type": "markdown",
   "metadata": {},
   "source": [
    "## Kode for plotting av orbitaler:"
   ]
  },
  {
   "cell_type": "code",
   "execution_count": null,
   "metadata": {},
   "outputs": [],
   "source": [
    "from scipy.special import sph_harm  # Sfæriske harmoniske funksjoner\n",
    "from scipy.special import genlaguerre  # Generaliserte Laguerre polynomer\n",
    "from math import factorial  # Funksjon for å regne ut fakultet\n",
    "import numpy as np  # Bibliotek for å kunne jobbe med numeriske lister\n",
    "import pyvista as pv  # For 3D-plotting\n",
    "pv.set_plot_theme('document')"
   ]
  },
  {
   "cell_type": "code",
   "execution_count": null,
   "metadata": {},
   "outputs": [],
   "source": [
    "def radiell(n, l, r):\n",
    "    \"\"\"Beregn radiell del av bølgefunksjonen\n",
    "    \n",
    "    Parametere\n",
    "    ----------\n",
    "    n : heltall, dette er hovedkvantetallet.\n",
    "    l : heltall, dette er vinkelkvantetallet.\n",
    "    r : tall, detter er posisjonen vi evaluerer funksjonen i\n",
    "    \n",
    "    Resultat\n",
    "    --------\n",
    "    ut : tall, verdien for radiell del i angitt punkt.\n",
    "    \n",
    "    \"\"\"\n",
    "    pre = np.sqrt((2 / n)**3 * factorial(n - l - 1) / (2 * n * factorial(n + l)))\n",
    "    r_hat = 2 * r / n\n",
    "    laguerre = genlaguerre(n - l - 1, 2*l + 1)\n",
    "    return pre * np.exp(-r_hat / 2) * r_hat**l * laguerre(r_hat)\n",
    "\n",
    "\n",
    "def vinkelavhengighet(l, m, theta, phi):\n",
    "    \"\"\"Regn ut vinkelavhengighet for bølgefunksjonen.\n",
    "    \n",
    "    Her tar vi også hensyn til komplekse tall og gjør løsningene\n",
    "    reelle.\n",
    "    \n",
    "    Parametere\n",
    "    ----------\n",
    "    l : heltall, vinkelkvantetallet.\n",
    "    m : heltall, magnetisk kvantetall.\n",
    "    theta : tall, polarvinkel (engelsk: polar angle).\n",
    "    phi : tall, asimut (engelsk: azimuthal angle)\n",
    "    \n",
    "    Returnerer\n",
    "    ----------\n",
    "    ut : tall, verdi for vinkelavhengigheten til bølgefunksjonen.\n",
    "    \n",
    "    \"\"\"\n",
    "    # SciPy vil ha:\n",
    "    # - m som første argument, l som andre\n",
    "    # - asimut som første vinkel (kaller den \"theta\" i dokumentasjonen)\n",
    "    # - polar som andre vinkel (kaller den \"phi\" i dokumentasjonen)\n",
    "    if m == 0:\n",
    "        vinkel = sph_harm(m, l, phi, theta)\n",
    "    elif m < 0:\n",
    "        vinkel = sph_harm(m, l, phi, theta) - (-1)**m * sph_harm(-m, l, phi, theta)\n",
    "        vinkel = vinkel * (1j / np.sqrt(2))\n",
    "    elif m > 0:\n",
    "        vinkel = sph_harm(-m, l, phi, theta) + (-1)**m * sph_harm(m, l, phi, theta)\n",
    "        vinkel = vinkel * (1 / np.sqrt(2))\n",
    "    return np.real(vinkel)\n",
    "\n",
    "def beregn_orbital(n, l, m, r, theta, phi):\n",
    "    # Sjekk at kvantetall er gyldig:\n",
    "    if n < 1:\n",
    "        raise ValueError(f'Ugyldig \"n={n}\". n = 1, 2, 3, ...')\n",
    "    if l < 0 or l > n - 1:\n",
    "        raise ValueError(f'Ugyldig \"l={l}\", l = 0, 1, ..., n-1')\n",
    "    if m > l or m < -l:\n",
    "        raise ValueError(f'Ugyldig \"m={m}\", m = -l, -l + 1, ..., 0, ..., l - 1, l')\n",
    "    return radiell(n, l, r) *  vinkelavhengighet(l, m, theta, phi)"
   ]
  },
  {
   "cell_type": "code",
   "execution_count": null,
   "metadata": {},
   "outputs": [],
   "source": [
    "def plot_hjelp_orbital(r, theta, phi, psi, cmap='viridis'):\n",
    "    \"\"\"Lag et 3D plot ved å bruke PyVista. Overflaten fargelegges etter verdiene til psi.\"\"\"\n",
    "    xyz = np.array(\n",
    "        [\n",
    "            r * np.sin(theta) * np.cos(phi),\n",
    "            r * np.sin(theta) * np.sin(phi),\n",
    "            r * np.cos(theta),\n",
    "        ]\n",
    "    )\n",
    "    orbital = np.abs(psi)**2\n",
    "    X, Y, Z = orbital * xyz\n",
    "    grid = pv.StructuredGrid(X, Y, Z)\n",
    "    plotter = pv.Plotter(notebook=True)\n",
    "    plotter.set_background('white')\n",
    "    fortegn = 2. * (psi - psi.min()) / np.ptp(psi) - 1\n",
    "    plotter.add_mesh(grid, scalars=fortegn.T, show_scalar_bar=True, cmap=cmap, clim=[-1, 1],\n",
    "                     scalar_bar_args={'title': 'Skalert fortegn', 'color': 'k'})\n",
    "    plotter.show(jupyter_backend='ipygany')"
   ]
  },
  {
   "cell_type": "markdown",
   "metadata": {},
   "source": [
    "## Plot av 2s og 2p-orbital:\n",
    "Her plotter vi 2s-orbitalet og 2p-orbitalene. Fargene i plottet angir verdien på bølgefunksjonen og viser hvor bølgefunksjonen er positiv eller negativ."
   ]
  },
  {
   "cell_type": "code",
   "execution_count": null,
   "metadata": {
    "scrolled": false
   },
   "outputs": [],
   "source": [
    "theta = np.linspace(0, np.pi, 100)  # 0 <= theta <= 180\n",
    "phi = np.linspace(0, 2.0*np.pi, 100)  # 0 <= phi <= 360\n",
    "# Lag et grid over alle mulige theta og phi-kombinasjoner:\n",
    "theta, phi = np.meshgrid(theta, phi)\n",
    "xyz = np.array(\n",
    "    [\n",
    "        np.sin(theta) * np.cos(phi),\n",
    "        np.sin(theta) * np.sin(phi),\n",
    "        np.cos(theta),\n",
    "    ]\n",
    ")\n",
    "r = 3\n",
    "plotter = pv.Plotter(notebook=True, shape=(1, 4), window_size=(1000, 250))\n",
    "psi_2s = beregn_orbital(2, 0, 0, r, theta, phi)\n",
    "psi_2pz = beregn_orbital(2, 1, 0, r, theta, phi)\n",
    "psi_2py = beregn_orbital(2, 1, -1, r, theta, phi)\n",
    "psi_2px = beregn_orbital(2, 1, 1, r, theta, phi)\n",
    "merkelapper = ('2s', '2pz', '2py', '2px')\n",
    "funksjoner = (psi_2s, psi_2pz, psi_2py, psi_2px)\n",
    "for i, (navn, psi) in enumerate(zip(merkelapper, funksjoner)):\n",
    "    plotter.subplot(0, i)\n",
    "    plotter.add_text(f'{navn}', font_size=10, color='k')\n",
    "    orbital = np.abs(psi)**2\n",
    "    X, Y, Z = orbital * xyz\n",
    "    grid = pv.StructuredGrid(X, Y, Z)\n",
    "    plotter.add_mesh(grid, scalars=psi.T, show_scalar_bar=False)\n",
    "plotter.show(jupyter_backend='static')"
   ]
  },
  {
   "cell_type": "markdown",
   "metadata": {},
   "source": [
    "## Plot av sp3-hybridorbitaler:\n",
    "Vi lager nå hybridorbitaler ved å kombinere atomorbitalene:"
   ]
  },
  {
   "cell_type": "code",
   "execution_count": null,
   "metadata": {},
   "outputs": [],
   "source": [
    "sp3_1 = 0.5 * (psi_2s + psi_2px + psi_2py + psi_2pz)\n",
    "plot_hjelp_orbital(r, theta, phi, sp3_1)"
   ]
  },
  {
   "cell_type": "markdown",
   "metadata": {},
   "source": [
    "Vi kan lage tre lineærkombinasjoner til. La oss plotte alle 4:"
   ]
  },
  {
   "cell_type": "code",
   "execution_count": null,
   "metadata": {},
   "outputs": [],
   "source": [
    "sp3_2 = 0.5 * (psi_2s + psi_2px - psi_2py - psi_2pz)\n",
    "sp3_3 = 0.5 * (psi_2s - psi_2px + psi_2py - psi_2pz)\n",
    "sp3_4 = 0.5 * (psi_2s - psi_2px - psi_2py + psi_2pz)\n",
    "\n",
    "plotter = pv.Plotter(notebook=True, shape=(1, 4), window_size=(1000, 250))\n",
    "merkelapper = ('sp3(1)', 'sp3(2)', 'sp3(3)', 'sp3(4)')\n",
    "funksjoner = (sp3_1, sp3_2, sp3_3, sp3_4)\n",
    "for i, (navn, psi) in enumerate(zip(merkelapper, funksjoner)):\n",
    "    plotter.subplot(0, i)\n",
    "    plotter.add_text(f'{navn}', font_size=10, color='k')\n",
    "    orbital = np.abs(psi)**2\n",
    "    X, Y, Z = orbital * xyz\n",
    "    grid = pv.StructuredGrid(X, Y, Z)\n",
    "    plotter.add_mesh(grid, scalars=psi.T, show_scalar_bar=False)\n",
    "plotter.show(jupyter_backend='static')"
   ]
  },
  {
   "cell_type": "markdown",
   "metadata": {},
   "source": [
    "Tilslutt, la oss plotte alle 4 i samme plott, dette burde få en tetraedisk form:"
   ]
  },
  {
   "cell_type": "code",
   "execution_count": null,
   "metadata": {},
   "outputs": [],
   "source": [
    "xyz = np.array(\n",
    "    [\n",
    "        r * np.sin(theta) * np.cos(phi),\n",
    "        r * np.sin(theta) * np.sin(phi),\n",
    "        r * np.cos(theta),\n",
    "    ]\n",
    ")\n",
    "\n",
    "plotter = pv.Plotter(notebook=True)\n",
    "plotter.set_background('white')\n",
    "for psi in funksjoner:\n",
    "    orbital = np.abs(psi)**2\n",
    "    X, Y, Z = orbital * xyz\n",
    "    grid = pv.StructuredGrid(X, Y, Z)\n",
    "\n",
    "    fortegn = 2. * (psi - psi.min()) / np.ptp(psi) - 1\n",
    "    plotter.add_mesh(grid, scalars=fortegn.T, show_scalar_bar=True, clim=[-1, 1],\n",
    "                     scalar_bar_args={'title': 'Skalert fortegn', 'color': 'k'})\n",
    "plotter.view_yx()\n",
    "plotter.show(jupyter_backend='ipygany')"
   ]
  }
 ],
 "metadata": {
  "kernelspec": {
   "display_name": "Python 3 (ipykernel)",
   "language": "python",
   "name": "python3"
  },
  "language_info": {
   "codemirror_mode": {
    "name": "ipython",
    "version": 3
   },
   "file_extension": ".py",
   "mimetype": "text/x-python",
   "name": "python",
   "nbconvert_exporter": "python",
   "pygments_lexer": "ipython3",
   "version": "3.9.6"
  }
 },
 "nbformat": 4,
 "nbformat_minor": 4
}
