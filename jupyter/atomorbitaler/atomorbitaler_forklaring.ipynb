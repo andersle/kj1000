{
 "cells": [
  {
   "cell_type": "markdown",
   "metadata": {},
   "source": [
    "# Atomorbitaler for hydrogenliknende atomer\n",
    "Her skal vi se på atomorbitaler for hydrogenliknende atomer. Med \"hydrogenliknende\" atomer mener vi atomer som bare har ett elektron. **Målet vårt er å plotte noen orbitaler i 3D.** Først kommer litt tekst som forklarer hva som plottes, hvis du bare vil se orbitalene kan du hoppe over dette.\n",
    "\n",
    "## Introduksjon\n",
    "\n",
    "For hydrogenliknende atomer kan vi løse [Schrödingerligningen](https://snl.no/schr%C3%B6dingerligningen) analytisk. I 3D er dette lettest hvis vi bruker [kulekoordinater](https://no.wikipedia.org/wiki/Kulekoordinater) i stedet for de \"vanlige\" kartesiske koordinatene ($x$, $y$, $z$). Vi kaller løsningene for Schrödingerligningen for bølgefunksjoner, og vi bruker ofte symbolet $\\psi$ for de. Disse bølgefunksjonene tolkes lettest ved Borns sannsynlighetstolkning som sier at $\\vert| \\psi \\vert|^2$ er knyttet til sannsynlighetsfordelingen for elektronet.\n",
    "\n",
    "Bølgefunksjonen ($\\psi _{n\\ell m}$) som løser Schrödingerligningen er på formen,\n",
    "\n",
    "$$ \\psi _{n\\ell m}=R_{n\\ell }(r)\\,Y_{\\ell m}(\\theta ,\\phi ),$$\n",
    "\n",
    "der $n$, $\\ell$ og $m$ er kvantetallene, $r$ av avstanden mellom elektronet og kjernen, og $\\theta$ og $\\psi$ er vinklene i kulekoordinatsystemet. Her er $R_{n\\ell }(r)$ en funksjon som bare avhenger av $r$ (defineres lenger ned), mens $Y_{\\ell m}(\\theta ,\\phi )$ er de sfærisk harmoniske funksjonene (engelsk: [spherical harmonics](https://en.wikipedia.org/wiki/Spherical_harmonics)). $Y_{\\ell m}(\\theta ,\\phi )$ beskriver hvordan bølgefunksjonen avhenger av vinklene i kulekoordinatsystemet. Vi skal ikke gå nærmere inn på hvordan $Y_{\\ell m}(\\theta ,\\phi )$ ser ut. Heldigvis er de tilgjengelige som funksjoner i Python via [scipy.special.sph_harm](https://docs.scipy.org/doc/scipy/reference/generated/scipy.special.sph_harm.html). \n",
    "Kvantetallene har visse krav for at $\\psi_{n \\ell m}$ skal være en matematisk gyldig løsning av Schrödingerligningen. De er alle heltall og de må oppfylle,\n",
    "\n",
    "$$\\begin{eqnarray} n&=&1,2,3,4,\\dots  \\\\ \\ell &=& 0,1,2,\\dots ,n-1 \\\\ m&=&-\\ell ,-\\ell +1,\\ldots ,0,\\ldots ,\\ell -1,\\ell  \\end{eqnarray}$$\n",
    "\n",
    "For å visualisere orbitaler, så kan vi velge $n$, $\\ell$ og $m$ slik at vi får en gyldig løsning og beregne $\\psi_{n \\ell m}$ for en rekke posisjoner. Deretter kan vi plotte $\\vert \\psi \\vert^2$ for å få et bilde av sannsynlighetstettheten. Før vi gjør det, skal vi se litt nærmere på den radielle avhengigheten og vinkelavhengigheten.\n",
    "\n",
    "## Radiell avhengighet\n",
    "\n",
    "Funksjonen $R_{n\\ell }(r)$ er gitt ved,\n",
    "\n",
    "$$R_{n\\ell }(r)={\\sqrt {{\\left({\\frac {2Z}{na_{\\mu }}}\\right)}^{3}{\\frac {(n-\\ell -1)!}{2n(n+\\ell )!}}}}\\text{e}^{-Zr/{na_{\\mu }}}\\left({\\frac {2Zr}{na_{\\mu }}}\\right)^{\\ell }L_{n-\\ell -1}^{(2\\ell +1)}\\left({\\frac {2Zr}{na_{\\mu }}}\\right), $$\n",
    "\n",
    "der $ L_{n-\\ell -1}^{(2\\ell +1)}$ er de generaliserte Laguerre-polynomene (engelsk: [Laguerre polynomials](https://en.wikipedia.org/wiki/Laguerre_polynomials)), $Z$ er antallet protoner i kjernen og $a_{\\mu }$ er en konstant. Her skal vi heller ikke bry oss så mye med hvordan Laguerre-polynomene faktisk ser ut, men vi konstaterer at disse også er tilgjengelige som funksjoner i Python via [scipy.special.genlaguerre](https://docs.scipy.org/doc/scipy/reference/generated/scipy.special.genlaguerre.html).\n",
    "\n",
    "For å forenkle ting litt, sier vi at $Z = 1$ og at vi har valgt enheter slik at $a_{\\mu } = 1$. Videre definerer vi $\\hat{r} = \\frac{2r}{n}$. Da blir $R_{n\\ell }(r)$ litt kortere:\n",
    "\n",
    "$$R_{n\\ell }(r)={\\sqrt {{\\left({\\frac {2}{n}}\\right)}^{3}{\\frac {(n-\\ell -1)!}{2n(n+\\ell )!}}}}  \\text{e}^{-\\hat{r}/2} {\\hat{r}}^{\\ell }  L_{n-\\ell -1}^{(2\\ell +1)}({\\hat{r}}) .$$\n",
    "\n",
    "## Vinkelavhengighet\n",
    "Over hadde vi at $\\psi _{n\\ell m}=R_{n\\ell }(r)\\,Y_{\\ell m}(\\theta ,\\phi )$. Som nevnt over, så skal vi ikke si så mye om hvordan funksjonene $Y_{\\ell m}(\\theta ,\\phi )$ ser ut. Men vi må påpeke en egenskap ved de som gjør plotting litt mer komplekst, og det er at de kan være [komplekse funksjoner](https://no.wikipedia.org/wiki/Kompleks_analyse#Komplekse_funksjoner)! Disse funksjonene er komplekse når $m \\neq 0$, men hvordan skal vi visualisere noe som kan være et komplekst tall? Her skal vi løse dette problemet ved å bruke en egenskap  som Schrödingerligningen har: Dersom vi har to løsninger $\\psi_{n_1 \\ell_1 m_1}$ og $\\psi_{n_2 \\ell_2 m_2}$, så er også summen av disse to, $\\psi = a\\psi_{n_1 \\ell_1 m_1} + b\\psi_{n_2 \\ell_2 m_2}$, en gyldig løsning (her er $a$ og $b$ to tall som sikrer at $\\psi$ er [normalisert](https://en.wikipedia.org/wiki/Normalizing_constant)). Ved å gjøre en passende sum, så kan vi få at $\\psi$ er en reell funksjon, selv om både $\\psi_{n_1 \\ell_1 m_1}$ og $\\psi_{n_2 \\ell_2 m_2}$ er komplekse!\n",
    "\n",
    "For å gjøre det hele litt mer konkret. La oss si at vi skal plotte 2p-orbitalene. Da har vi tre mulige løsninger på Schrödingerligningen: $\\psi_{2, 1, 0}$, $\\psi_{2, 1, -1}$ og $\\psi_{2, 1, 1}$. Den første funksjonen er reell ($m=0$), og det er denne vi vanligvis kaller for 2p$_\\text{z}$,\n",
    "\n",
    "$$\\text{2p}_\\text{z} = \\psi_{2, 1, 0}.$$\n",
    "\n",
    "De to andre er komplekse. og for å få reelle bølgefunksjoner sier vi heller at (merk at dette er et *valg* vi gjør!):\n",
    "\n",
    "$$\n",
    "\\begin{eqnarray}\n",
    "\\text{2p}_\\text{x}&=& \\frac{1}{\\sqrt{2}} (\\psi_{2, 1, -1} - \\psi_{2, 1, 1}), \\\\ \n",
    "\\text{2p}_\\text{y}&=& \\frac{\\text{i}}{\\sqrt{2}} (\\psi_{2, 1, -1} + \\psi_{2, 1, 1}).\n",
    "\\end{eqnarray}$$\n",
    "\n",
    "Generelt, kan vi gjøre følgende for å håndtere de komplekse funksjonene:\n",
    "- Dersom $m=0$: Vi trenger ikke gjøre noe, vinkelfunksjonen er reell.\n",
    "- Dersom $m<0$: Vi tar en sum på formen:\n",
    "  $$\\psi_{\\text{orbital}} = \\frac{\\text{i}}{\\sqrt{2}} \\left(\\psi_{n, \\ell, m} - (-1)^m \\psi_{n, \\ell, -m}\\right).$$\n",
    "- Dersom $m > 0$: Vi tar en sum på formen:\n",
    "  $$\\psi_{\\text{orbital}} = \\frac{1}{\\sqrt{2}} \\left(\\psi_{n, \\ell, -m} + (-1)^m \\psi_{n, \\ell, m}\\right).$$\n",
    "\n",
    "Nederst i dette dokumentet vil du finne eksempler på matematiske uttrykk for [1s- og 2-orbitaler](#1s--og-2s-orbitaler) og [2p-orbitaler](#2p-orbitaler)."
   ]
  },
  {
   "cell_type": "markdown",
   "metadata": {},
   "source": [
    "## Strategi for plotting\n",
    "La oss kort oppsummere det vi har:\n",
    "* Vi har et matematisk uttrykk for bølgefunksjonen:\n",
    "  - Vi har et uttrykk for radiell avhengighet (vi bruker en SciPy-funksjon for å beregne Laguerre-polynomer).\n",
    "  - Vi har et uttrykk for vinkelavhengighet (vi bruker en SciPy-funksjon for å finne de sfærisk harmoniske funksjonene).\n",
    "* Vi må ta hensyn til at bølgefunksjonene kan være komplekse funksjoner. Vi \"fikser\" dette vet å ta summer av bølgefunksjoner for de tilfellene der $m \\neq 0$. En vanlig løsning:\n",
    "\n",
    "For å faktisk plotte:\n",
    "* Vi lager en funksjon som gir oss den radielle avhengigheten. Denne vil avhenge av $r$, $n$ og $\\ell$.\n",
    "* Vi lager en funksjon som gir oss vinkelavhengigheten. Denne vil avhenge av $\\theta$, $\\phi$, $\\ell$ og $m$.\n",
    "* Vi finner total bølgefunksjon som produktet av disse to funksjonene.\n",
    "* Vi evaluerer funksjonen på et grid, og plotter så $\\vert \\psi^2 \\vert$."
   ]
  },
  {
   "cell_type": "markdown",
   "metadata": {},
   "source": [
    "## Kode for plotting av orbitaler:\n",
    "Vi begynner med å importere noen matematiske funksjoner og funksjoner for plotting:"
   ]
  },
  {
   "cell_type": "code",
   "execution_count": null,
   "metadata": {},
   "outputs": [],
   "source": [
    "from scipy.special import sph_harm  # Sfæriske harmoniske funksjoner\n",
    "from scipy.special import genlaguerre  # Generaliserte Laguerre polynomer\n",
    "from math import factorial  # Funksjon for å regne ut fakultet\n",
    "import numpy as np  # Bibliotek for å kunne jobbe med numeriske lister\n",
    "import pyvista as pv  # For 3D-plotting\n",
    "from matplotlib import pyplot as plt # For plotting:\n",
    "plt.style.use('seaborn-notebook')\n",
    "%matplotlib notebook"
   ]
  },
  {
   "cell_type": "markdown",
   "metadata": {},
   "source": [
    "### Kode for evaluering av radiell avhengighet:"
   ]
  },
  {
   "cell_type": "code",
   "execution_count": null,
   "metadata": {},
   "outputs": [],
   "source": [
    "def radiell(n, l, r):\n",
    "    \"\"\"Beregn radiell del av bølgefunksjonen\n",
    "    \n",
    "    Parametere\n",
    "    ----------\n",
    "    n : heltall, dette er hovedkvantetallet.\n",
    "    l : heltall, dette er vinkelkvantetallet.\n",
    "    r : tall, detter er posisjonen vi evaluerer funksjonen i\n",
    "    \n",
    "    Resultat\n",
    "    --------\n",
    "    ut : tall, verdien for radiell del i angitt punkt.\n",
    "    \n",
    "    \"\"\"\n",
    "    pre = np.sqrt((2 / n)**3 * factorial(n - l - 1) / (2 * n * factorial(n + l)))\n",
    "    r_hat = 2 * r / n\n",
    "    laguerre = genlaguerre(n - l - 1, 2*l + 1)\n",
    "    return pre * np.exp(-r_hat / 2) * r_hat**l * laguerre(r_hat)"
   ]
  },
  {
   "cell_type": "code",
   "execution_count": null,
   "metadata": {},
   "outputs": [],
   "source": [
    "# La oss undersøke radiell del for 1s, 2s og 2p:\n",
    "r = np.linspace(0, 20, 1000)\n",
    "fig, axi = plt.subplots(constrained_layout=True)\n",
    "psi_r_1s = radiell(1, 0, r)\n",
    "psi_r_2s = radiell(2, 0, r)\n",
    "psi_r_2p = radiell(2, 1, r)\n",
    "\n",
    "axi.plot(r, r**2 * abs(psi_r_1s)**2, label='1s', lw=3, alpha=0.8)\n",
    "axi.plot(r, r**2 * abs(psi_r_2s)**2, label='2s', lw=3, alpha=0.8)\n",
    "axi.plot(r, r**2 * abs(psi_r_2p)**2, label='2p', lw=3, alpha=0.8)\n",
    "axi.set(xlabel='$\\hat{r}$', ylabel='$R_{n\\ell}$', title='Radiell avhengighet')\n",
    "axi.legend();"
   ]
  },
  {
   "cell_type": "markdown",
   "metadata": {},
   "source": [
    "Her merker vi oss at for høyere $n$, så kommer maksimalverdien lengre ut fra kjernen (større $\\hat{r}$). La oss sjekke hvordan $\\vert \\psi \\vert^2$ oppfører seg. Vi kan tolke integralet av $\\hat{r}^2 \\vert \\psi \\vert^2$ fra $0$ opp til en gitt verdi for $\\hat{r}$ som sannsynligheten for å finne elektronet et sted mellom $0$ og $\\hat{r}$.\n",
    "\n",
    "La oss også plotte dette - integralet kan vi regne ut numerisk ved å bruke funksjonen [cumulative_trapezoid](https://docs.scipy.org/doc/scipy/reference/generated/scipy.integrate.cumulative_trapezoid.html) fra SciPy:"
   ]
  },
  {
   "cell_type": "code",
   "execution_count": null,
   "metadata": {},
   "outputs": [],
   "source": [
    "from scipy.integrate import cumulative_trapezoid  # Funksjon for numerisk integrasjon\n",
    "# Integrasjon:\n",
    "integ_1s = cumulative_trapezoid(r**2 * abs(psi_r_1s)**2, r)  # 1s\n",
    "integ_2s = cumulative_trapezoid(r**2 * abs(psi_r_2s)**2, r)  # 2s\n",
    "integ_2p = cumulative_trapezoid(r**2 * abs(psi_r_2p)**2, r)  # 2p\n",
    "\n",
    "figi, axi = plt.subplots(constrained_layout=True)\n",
    "axi.plot(r[1:], integ_1s, lw=3, alpha=0.8, label='1s')\n",
    "axi.plot(r[1:], integ_2s, lw=3, alpha=0.8, label='2s')\n",
    "axi.plot(r[1:], integ_2p, lw=3, alpha=0.8, label='2p')\n",
    "axi.set(xlabel='$\\hat{r}$', ylabel='$\\int_{0}^\\hat{r} \\, r^2 \\, R_{n\\ell} (r) \\, \\mathrm{d} r$',\n",
    "        title='Sannsynlighetsfordelinger (funksjon av avstand)')\n",
    "axi.legend();"
   ]
  },
  {
   "cell_type": "markdown",
   "metadata": {},
   "source": [
    "Her ser vi at sannsynligheten er mye større nærmere kjernen for elektroner i 1s-orbitaler. Vi kan prøve å kvantisere dette litt mer. F.eks. kan vi finne posisjonen der sannsynligheten er minst 90 %. La oss lage en generell funksjon som gjør dette for oss:"
   ]
  },
  {
   "cell_type": "code",
   "execution_count": null,
   "metadata": {},
   "outputs": [],
   "source": [
    "def finn_posisjon(n, l, verdi=0.9):\n",
    "    \"\"\"Finner posisjon gitt en sannsynlighet.\n",
    "    \n",
    "    For en gitt sannsynlighet, finner vi den minste avstanden som er\n",
    "    slik at sannsynligheten for å observere elektronet innen denne\n",
    "    avstanden er (minst) lik den gitte sannsynligheten.\n",
    "    \n",
    "    Parametere\n",
    "    ----------\n",
    "    n : heltall, dette er hovedkvantetallet.\n",
    "    l : heltall, dette er vinkelkvantetallet.\n",
    "    verdi : tall, sannsynligheten vi ønsker.\n",
    "    \n",
    "    Returnerer\n",
    "    ----------\n",
    "    ut : tall, posisjonen som beskrevet over.\n",
    "    \n",
    "    \"\"\"\n",
    "    r = np.linspace(0, 20, 1000)\n",
    "    funksjon = radiell(n, l, r)\n",
    "    integral = cumulative_trapezoid(r**2 * abs(funksjon)**2, r)\n",
    "    idx = np.argmax(integral > verdi)\n",
    "    return r[idx + 1]\n",
    "\n",
    "# La oss sjekke for 1s, 2s og 2p:\n",
    "hvor_1s = finn_posisjon(1, 0, verdi=0.9)\n",
    "hvor_2s = finn_posisjon(2, 0, verdi=0.9)\n",
    "hvor_2p = finn_posisjon(2, 1, verdi=0.9)\n",
    "print(f'1s, sannsynlighet > 0.9 for r >= {hvor_1s:.4g}')\n",
    "print(f'2s, sannsynlighet > 0.9 for r >= {hvor_2s:.4g}')\n",
    "print(f'2p, sannsynlighet > 0.9 for r >= {hvor_2p:.4g}')\n",
    "\n",
    "figi, axi = plt.subplots(constrained_layout=True)\n",
    "axi.plot(r[1:], integ_1s, lw=3, alpha=0.8, label='1s')\n",
    "axi.plot(r[1:], integ_2s, lw=3, alpha=0.8, label='2s')\n",
    "axi.plot(r[1:], integ_2p, lw=3, alpha=0.8, label='2p')\n",
    "axi.axvline(x=hvor_1s, ls=':', color='k')\n",
    "axi.axvline(x=hvor_2s, ls=':', color='k')\n",
    "axi.axvline(x=hvor_2p, ls=':', color='k')\n",
    "axi.axhline(y=0.9, ls=':', color='k')\n",
    "axi.set(xlabel='$\\hat{r}$', ylabel='$\\int_{0}^\\hat{r} \\, r^2 \\, R_{n\\ell} (r) \\, \\mathrm{d} r$',\n",
    "        title='Sannsynlighetsfordelinger (funksjon av avstand)')\n",
    "axi.legend();"
   ]
  },
  {
   "cell_type": "markdown",
   "metadata": {},
   "source": [
    "## Kode for evaluering av vinkelavhengighet\n",
    "Vinkelavhengigheten kan vi regne ut vet å bruke de sfæriske harmonisk fra SciPy. [SciPy-funksjonen](https://docs.scipy.org/doc/scipy/reference/generated/scipy.special.sph_harm.html) bruker en litt annen notasjon og bytter om på vinklene, sammenliknet med hva vi har kalt de. Dette tar vi hensyn til når vi bruker funksjonen."
   ]
  },
  {
   "cell_type": "code",
   "execution_count": null,
   "metadata": {},
   "outputs": [],
   "source": [
    "def vinkelavhengighet(l, m, theta, phi):\n",
    "    \"\"\"Regn ut vinkelavhengighet for bølgefunksjonen.\n",
    "    \n",
    "    Her tar vi også hensyn til komplekse tall og gjør løsningene\n",
    "    reelle.\n",
    "    \n",
    "    Parametere\n",
    "    ----------\n",
    "    l : heltall, vinkelkvantetallet.\n",
    "    m : heltall, magnetisk kvantetall.\n",
    "    theta : tall, polarvinkel (engelsk: polar angle).\n",
    "    phi : tall, asimut (engelsk: azimuthal angle)\n",
    "    \n",
    "    Returnerer\n",
    "    ----------\n",
    "    ut : tall, verdi for vinkelavhengigheten til bølgefunksjonen.\n",
    "    \n",
    "    \"\"\"\n",
    "    # SciPy vil ha:\n",
    "    # - m som første argument, l som andre\n",
    "    # - asimut som første vinkel (kaller den \"theta\" i dokumentasjonen)\n",
    "    # - polar som andre vinkel (kaller den \"phi\" i dokumentasjonen)\n",
    "    if m == 0:\n",
    "        vinkel = sph_harm(m, l, phi, theta)\n",
    "    elif m < 0:\n",
    "        vinkel = sph_harm(m, l, phi, theta) - (-1)**m * sph_harm(-m, l, phi, theta)\n",
    "        vinkel = vinkel * (1j / np.sqrt(2))\n",
    "    elif m > 0:\n",
    "        vinkel = sph_harm(-m, l, phi, theta) + (-1)**m * sph_harm(m, l, phi, theta)\n",
    "        vinkel = vinkel * (1 / np.sqrt(2))\n",
    "    return np.real(vinkel)"
   ]
  },
  {
   "cell_type": "markdown",
   "metadata": {},
   "source": [
    "Funksjonen over gjør egentlig ikke så mye. Den bare kaller på en annen funksjon, og passer på at input er konsistent med hvordan vi har definert ting. Vi kan prøve å plotte noen av de reelle sfæriske harmoniske:"
   ]
  },
  {
   "cell_type": "code",
   "execution_count": null,
   "metadata": {},
   "outputs": [],
   "source": [
    "theta = np.linspace(0, np.pi, 100)  # 0 <= theta <= 180\n",
    "phi = np.linspace(0, 2.0*np.pi, 100)  # 0 <= phi <= 360\n",
    "# Lag et grid over alle mulige theta og phi-kombinasjoner:\n",
    "theta, phi = np.meshgrid(theta, phi)\n",
    "# Det lettest å plotte om vi konverterer til kartesiske koordinater.\n",
    "# Gjør klar for konverteringen:\n",
    "xyz = np.array(\n",
    "    [\n",
    "        np.sin(theta) * np.cos(phi),\n",
    "        np.sin(theta) * np.sin(phi),\n",
    "        np.cos(theta),\n",
    "    ]\n",
    ")\n",
    "# Og gjør klar en funksjon som hjelpe til med interaktiv plotting\n",
    "def plot_hjelp(xyz, vinkel):\n",
    "    \"\"\"Lag et 3D plot ved å bruke PyVista, fargelegg etter verdi på vinkel\"\"\"\n",
    "    X, Y, Z = np.abs(vinkel) * xyz\n",
    "    grid = pv.StructuredGrid(X, Y, Z)\n",
    "    plotter = pv.Plotter()\n",
    "    plotter.set_background('white')\n",
    "    plotter.add_mesh(grid, scalars=vinkel.T, show_scalar_bar=False)\n",
    "    plotter.show(jupyter_backend='ipygany')"
   ]
  },
  {
   "cell_type": "code",
   "execution_count": null,
   "metadata": {},
   "outputs": [],
   "source": [
    "# Lag et interaktivt plott for l = 1, m = 0:\n",
    "plot_hjelp(xyz, vinkelavhengighet(1, 0, theta, phi))"
   ]
  },
  {
   "cell_type": "code",
   "execution_count": null,
   "metadata": {},
   "outputs": [],
   "source": [
    "# Interaktivt plot for l=2, m=0:\n",
    "plot_hjelp(xyz, vinkelavhengighet(2, 0, theta, phi))"
   ]
  },
  {
   "cell_type": "code",
   "execution_count": null,
   "metadata": {},
   "outputs": [],
   "source": [
    "# Interaktivt plot for l=3, m=0:\n",
    "plot_hjelp(xyz, vinkelavhengighet(3, 0, theta, phi))"
   ]
  },
  {
   "cell_type": "code",
   "execution_count": null,
   "metadata": {},
   "outputs": [],
   "source": [
    "# Interaktivt plot for l=3, m=-2:\n",
    "plot_hjelp(xyz, vinkelavhengighet(3, -2, theta, phi))"
   ]
  },
  {
   "cell_type": "code",
   "execution_count": null,
   "metadata": {},
   "outputs": [],
   "source": [
    "# Lag statisk plot for l=3, m=-3, ..., 3\n",
    "l = 3\n",
    "plotter = pv.Plotter(notebook=True, shape=(1, 2*l + 1))\n",
    "for i, m in enumerate(range(-3, 4)):\n",
    "    plotter.subplot(0, i)\n",
    "    plotter.add_text(f'l = {l}, m = {m}', font_size=10)\n",
    "    plotter.set_background('white')\n",
    "    vinkel = vinkelavhengighet(l, m, theta, phi)\n",
    "    X, Y, Z = np.abs(vinkel) * xyz\n",
    "    grid = pv.StructuredGrid(X, Y, Z)\n",
    "    plotter.add_mesh(grid, scalars=vinkel.T, show_scalar_bar=False)\n",
    "plotter.show(jupyter_backend='static')"
   ]
  },
  {
   "cell_type": "markdown",
   "metadata": {},
   "source": [
    "Funksjonene vi plotter over har form som kanskje minner om orbitaler. Og det er ikke tilfeldig - det er i hovedsak vinkelfunksjonene som bestemmer formen."
   ]
  },
  {
   "cell_type": "markdown",
   "metadata": {},
   "source": [
    "## Kode for å plotte orbitaler"
   ]
  },
  {
   "cell_type": "code",
   "execution_count": null,
   "metadata": {},
   "outputs": [],
   "source": [
    "def beregn_orbital(n, l, m, r, theta, phi):\n",
    "    # Sjekk at kvantetall er gyldig:\n",
    "    if n < 1:\n",
    "        raise ValueError(f'Ugyldig \"n={n}\". n = 1, 2, 3, ...')\n",
    "    if l < 0 or l > n - 1:\n",
    "        raise ValueError(f'Ugyldig \"l={l}\", l = 0, 1, ..., n-1')\n",
    "    if m > l or m < -l:\n",
    "        raise ValueError(f'Ugyldig \"m={m}\", m = -l, -l + 1, ..., 0, ..., l - 1, l')\n",
    "    if m == 0:\n",
    "        vinkel = vinkelavhengighet(l, m, theta, phi)\n",
    "    elif m < 0:\n",
    "        vinkel = vinkelavhengighet(l, m, theta, phi) - (-1)**m * vinkelavhengighet(l, -m, theta, phi)\n",
    "        vinkel = vinkel * (1j / np.sqrt(2))\n",
    "    elif m > 0:\n",
    "        vinkel = vinkelavhengighet(l, -m, theta, phi) + (-1)**m * vinkelavhengighet(l, m, theta, phi)\n",
    "        vinkel = vinkel * (1 / np.sqrt(2))\n",
    "    return radiell(n, l, r) * np.real(vinkel)\n",
    "\n",
    "r = 5\n",
    "theta = np.linspace(0, np.pi, 100)  # 0 <= theta <= 180\n",
    "phi = np.linspace(0, 2.0*np.pi, 100)  # 0 <= phi <= 360\n",
    "\n",
    "# Lag et grid over alle mulige r, theta og phi-kombinasjoner:\n",
    "r, theta, phi = np.meshgrid(r, theta, phi)\n",
    "# Det lettest å plotte om vi konverterer til kartesiske koordinater.\n",
    "# Gjør klar for konverteringen:\n",
    "xyz = np.array(\n",
    "    [\n",
    "        r * np.sin(theta) * np.cos(phi),\n",
    "        r * np.sin(theta) * np.sin(phi),\n",
    "        r * np.cos(theta),\n",
    "    ]\n",
    ")\n",
    "\n",
    "def plot_hjelp_orbital(xyz, psi):\n",
    "    \"\"\"Lag et 3D plot ved å bruke PyVista\"\"\"\n",
    "    orbital = np.abs(psi)**2\n",
    "    fortegn = np.sign(psi)\n",
    "    X, Y, Z = np.abs(orbital) * xyz\n",
    "    grid = pv.StructuredGrid(X, Y, Z)\n",
    "    plotter = pv.Plotter()\n",
    "    plotter.set_background('white')\n",
    "    plotter.add_mesh(grid, scalars=psi.T, show_scalar_bar=True)\n",
    "    plotter.show(jupyter_backend='ipygany')"
   ]
  },
  {
   "cell_type": "code",
   "execution_count": null,
   "metadata": {},
   "outputs": [],
   "source": [
    "psi_2p = beregn_orbital(2, 1, 1, r, theta, phi)\n",
    "plot_hjelp_orbital(xyz, psi_2p)"
   ]
  },
  {
   "cell_type": "code",
   "execution_count": null,
   "metadata": {},
   "outputs": [],
   "source": [
    "psi_3dz2 = beregn_orbital(3, 2, 0, r, theta, phi)\n",
    "plot_hjelp_orbital(xyz, psi_3dz2)"
   ]
  },
  {
   "cell_type": "markdown",
   "metadata": {},
   "source": [
    "## Eksempler på funksjoner for orbitaler\n",
    "Hvis vi ønsker å se hvordan bølgefunksjonene faktisk ser ut, så må vi sette inn verdier for $n$, $\\ell$ og $m$,\n",
    "og slå opp i formersamlinger for å se hvordan de korresponderende Laguerre-polynomene og de sfæriske harmoniske funsjonene ser ut.\n",
    "\n",
    "### 1s- og 2s-orbitaler\n",
    "For s-orbitaler har vi $n=1,2,3,\\ldots$, $\\ell=0$, $m=0$. La oss se på de 2 første, 1s ($n=1$) og 2s ($n=2$).\n",
    "Fra [Wikipediasiden om Laguerre polynomials](https://en.wikipedia.org/wiki/Laguerre_polynomials) kan vi finne:\n",
    "\n",
    "* for $n=1$: $L_{0}^{(1)}(\\hat{r}) =1 $,\n",
    "* for $n=2$: $L_{1}^{(1)}(\\hat{r}) = 2 - \\hat{r}$,\n",
    "\n",
    "og da blir den radielle avhengigheten:\n",
    "* for $n=1$: $$R_{1\\ell=0}(r) = 2  e^{-\\hat{r}/2}  L_{0}^{(1)}({\\hat{r}}) = 2  \\text{e}^{-\\hat{r}/2}$$\n",
    "* for $n=2$: $$R_{2\\ell=0}(r) = \\frac{1}{2 \\sqrt{2}}e^{-\\hat{r}/2} L_{1}^{(1)} =   \\frac{1}{2 \\sqrt{2}} \\text{e}^{-\\hat{r}/2} (2-\\hat{r})$$\n",
    "\n",
    "Fra [Wikipediasiden om spherical harmonics](https://en.wikipedia.org/wiki/Spherical_harmonics)\n",
    "finner vi $Y_{0,0} = \\left(\\frac{1}{4 \\pi}\\right)^{1/2} = \\frac{1}{2 \\sqrt{\\pi}}$.\n",
    "\n",
    "Setter vi sammen alt ($\\psi _{n, 0, 0}=R_{n, 0}(r)\\,Y_{0,0}(\\theta ,\\phi )$) får vi:\n",
    "\n",
    "$$\\begin{eqnarray}\n",
    "\\text{1s} &=& \\frac{1}{\\sqrt{\\pi}}  \\text{e}^{-\\hat{r}/2}, \\\\\n",
    "\\text{2s} &=& \\frac{1}{4\\sqrt{2\\pi}} (2-\\hat{r}) \\text{e}^{-\\hat{r}/2}, \\\\\n",
    " \\end{eqnarray}$$\n",
    "\n",
    "\n",
    "### 2p-orbitaler\n",
    "For 2p-orbitaler har vi $n=2$, $l=1$, $m=-1, 0, 1$.\n",
    "Fra [Wikipediasiden om Laguerre polynomials](https://en.wikipedia.org/wiki/Laguerre_polynomials) kan vi finne $L_0^{(3)} = 1$,\n",
    "og da blir den radielle avhengigheten:\n",
    "\n",
    "$$R_{2, 1} = \\frac{1}{2 \\sqrt{6}} \\hat{r} \\text{e}^{-\\hat{r}/2} $$\n",
    "\n",
    "og fra [Wikipediasiden om spherical harmonics](https://en.wikipedia.org/wiki/Spherical_harmonics) kan vi finne,\n",
    "* for $\\ell=1$ og $m=0$: $Y_{1, 0} = \\left(\\frac{3}{4 \\pi}\\right)^{1/2} \\cos \\theta$\n",
    "* for $\\ell=1$ og $m=-1$: $Y_{1, -1} = \\frac{1}{\\sqrt{2}} \\left(\\frac{3}{4 \\pi}\\right)^{1/2}  \\sin \\theta \\, \\text{e}^{-\\text{i} \\phi}$\n",
    "* for $\\ell=1$ og $m=1$: $Y_{1, 1} =  -\\frac{1}{\\sqrt{2}} \\left(\\frac{3}{4 \\pi}\\right)^{1/2}  \\sin \\theta \\, \\text{e}^{\\text{i} \\phi} $\n",
    "\n",
    "La oss sette dette sammen:\n",
    "* $n=2$, $\\ell=1$, $m=0$:\n",
    "  $$\\text{2p}_{\\text{z}} = \\frac{1}{4 \\sqrt{2\\pi}} \\hat{r} \\, \\text{e}^{-\\hat{r}/2}  \\cos \\theta$$\n",
    "* $n=2$, $\\ell=1$, $m=-1$, $m=+1$:\n",
    "  $$\\begin{eqnarray}\n",
    "  \\text{2p}_{\\text{x}} &=& \\frac{1}{\\sqrt{2}} (\\psi_{2, 1, -1} - \\psi_{2, 1, 1}) = \n",
    "  \\frac{1}{4 \\sqrt{2 \\pi}} \\hat{r} \\, \\text{e}^{-\\hat{r}/2}  \\sin \\theta \\cos \\phi ,\\\\\n",
    "  \\text{2p}_{\\text{y}} &=& \\frac{\\text{i}}{\\sqrt{2}} (\\psi_{2, 1, -1} + \\psi_{2, 1, 1}) =\n",
    "  \\frac{1}{4 \\sqrt{2 \\pi}} \\hat{r} \\, \\text{e}^{-\\hat{r}/2}  \\sin \\theta \\sin \\phi .\n",
    "  \\end{eqnarray} $$"
   ]
  }
 ],
 "metadata": {
  "kernelspec": {
   "display_name": "Python 3 (ipykernel)",
   "language": "python",
   "name": "python3"
  },
  "language_info": {
   "codemirror_mode": {
    "name": "ipython",
    "version": 3
   },
   "file_extension": ".py",
   "mimetype": "text/x-python",
   "name": "python",
   "nbconvert_exporter": "python",
   "pygments_lexer": "ipython3",
   "version": "3.9.6"
  }
 },
 "nbformat": 4,
 "nbformat_minor": 4
}
