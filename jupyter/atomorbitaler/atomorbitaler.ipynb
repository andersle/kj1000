{
 "cells": [
  {
   "cell_type": "markdown",
   "metadata": {},
   "source": [
    "# Atomorbitaler for hydrogenliknende atomer\n",
    "Her finner du noen funksjoner som kan brukes til å plotte løsninger av Schrödingerlikningen for hydrogenliknende orbitaler. Denne notebook'en inneholder ikke forklaringer."
   ]
  },
  {
   "cell_type": "markdown",
   "metadata": {},
   "source": [
    "## Kode for plotting av orbitaler:"
   ]
  },
  {
   "cell_type": "code",
   "execution_count": 1,
   "metadata": {},
   "outputs": [],
   "source": [
    "from scipy.special import sph_harm  # Sfæriske harmoniske funksjoner\n",
    "from scipy.special import genlaguerre  # Generaliserte laguerre polynomer\n",
    "from math import factorial  # Funksjon for å regne ut fakultet\n",
    "import numpy as np  # Bibliotek for å kunne jobbe med numeriske lister\n",
    "import pyvista as pv  # For 3D-plotting\n",
    "from matplotlib import pyplot as plt # For plotting:\n",
    "plt.style.use('seaborn-notebook')\n",
    "%matplotlib notebook"
   ]
  },
  {
   "cell_type": "code",
   "execution_count": 2,
   "metadata": {},
   "outputs": [],
   "source": [
    "def radiell(n, l, r):\n",
    "    \"\"\"Beregn radiell del av bølgefunksjonen\n",
    "    \n",
    "    Parametere\n",
    "    ----------\n",
    "    n : heltall, dette er hovedkvantetallet.\n",
    "    l : heltall, dette er vinkelkvantetallet.\n",
    "    r : tall, detter er posisjonen vi evaluerer funksjonen i\n",
    "    \n",
    "    Resultat\n",
    "    --------\n",
    "    ut : tall, verdien for radiell del i angitt punkt.\n",
    "    \n",
    "    \"\"\"\n",
    "    pre = np.sqrt((2 / n)**3 * factorial(n - l - 1) / (2 * n * factorial(n + l)))\n",
    "    r_hat = 2 * r / n\n",
    "    laguerre = genlaguerre(n - l - 1, 2*l + 1)\n",
    "    return pre * np.exp(-r_hat / 2) * r_hat**l * laguerre(r_hat)\n",
    "\n",
    "\n",
    "def vinkelavhengighet(l, m, theta, phi):\n",
    "    \"\"\"Regn ut vinkelavhengighet for bølgefunksjonen.\n",
    "    \n",
    "    Her tar vi også hensyn til komplekse tall og gjør løsningene\n",
    "    reelle.\n",
    "    \n",
    "    Parametere\n",
    "    ----------\n",
    "    l : heltall, vinkelkvantetallet.\n",
    "    m : heltall, magnetisk kvantetall.\n",
    "    theta : tall, polarvinkel (engelsk: polar angle).\n",
    "    phi : tall, asimut (engelsk: azimuthal angle)\n",
    "    \n",
    "    Returnerer\n",
    "    ----------\n",
    "    ut : tall, verdi for vinkelavhengigheten til bølgefunksjonen.\n",
    "    \n",
    "    \"\"\"\n",
    "    # SciPy vil ha:\n",
    "    # - m som første argument, l som andre\n",
    "    # - asimut som første vinkel (kaller den \"theta\" i dokumentasjonen)\n",
    "    # - polar som andre vinkel (kaller den \"phi\" i dokumentasjonen)\n",
    "    if m == 0:\n",
    "        vinkel = sph_harm(m, l, phi, theta)\n",
    "    elif m < 0:\n",
    "        vinkel = sph_harm(m, l, phi, theta) - (-1)**m * sph_harm(-m, l, phi, theta)\n",
    "        vinkel = vinkel * (1j / np.sqrt(2))\n",
    "    elif m > 0:\n",
    "        vinkel = sph_harm(-m, l, phi, theta) + (-1)**m * sph_harm(m, l, phi, theta)\n",
    "        vinkel = vinkel * (1 / np.sqrt(2))\n",
    "    return np.real(vinkel)\n",
    "\n",
    "def beregn_orbital(n, l, m, r, theta, phi):\n",
    "    # Sjekk at kvantetall er gyldig:\n",
    "    if n < 1:\n",
    "        raise ValueError(f'Ugyldig \"n={n}\". n = 1, 2, 3, ...')\n",
    "    if l < 0 or l > n - 1:\n",
    "        raise ValueError(f'Ugyldig \"l={l}\", l = 0, 1, ..., n-1')\n",
    "    if m > l or m < -l:\n",
    "        raise ValueError(f'Ugyldig \"m={m}\", m = -l, -l + 1, ..., 0, ..., l - 1, l')\n",
    "    if m == 0:\n",
    "        vinkel = vinkelavhengighet(l, m, theta, phi)\n",
    "    elif m < 0:\n",
    "        vinkel = vinkelavhengighet(l, m, theta, phi) - (-1)**m * vinkelavhengighet(l, -m, theta, phi)\n",
    "        vinkel = vinkel * (1j / np.sqrt(2))\n",
    "    elif m > 0:\n",
    "        vinkel = vinkelavhengighet(l, -m, theta, phi) + (-1)**m * vinkelavhengighet(l, m, theta, phi)\n",
    "        vinkel = vinkel * (1 / np.sqrt(2))\n",
    "    return radiell(n, l, r) * np.real(vinkel)"
   ]
  },
  {
   "cell_type": "code",
   "execution_count": 57,
   "metadata": {},
   "outputs": [],
   "source": [
    "def plot_hjelp_orbital(r, theta, phi, psi, fortegn=False, cmap='viridis'):\n",
    "    \"\"\"Lag et 3D plot ved å bruke PyVista\"\"\"\n",
    "    xyz = np.array(\n",
    "        [\n",
    "            r * np.sin(theta) * np.cos(phi),\n",
    "            r * np.sin(theta) * np.sin(phi),\n",
    "            r * np.cos(theta),\n",
    "        ]\n",
    "    )\n",
    "    orbital = np.abs(psi)**2\n",
    "    X, Y, Z = orbital * xyz\n",
    "    grid = pv.StructuredGrid(X, Y, Z)\n",
    "    plotter = pv.Plotter()\n",
    "    plotter.set_background('white')\n",
    "    if fortegn:\n",
    "        plotter.add_mesh(grid, scalars=np.sign(psi.T), show_scalar_bar=False, cmap=cmap)\n",
    "    else:\n",
    "        plotter.add_mesh(grid, scalars=psi.T, show_scalar_bar=False, cmap=cmap)\n",
    "    plotter.show(jupyter_backend='ipygany')"
   ]
  },
  {
   "cell_type": "markdown",
   "metadata": {},
   "source": [
    "## Plot p-orbital:"
   ]
  },
  {
   "cell_type": "code",
   "execution_count": 86,
   "metadata": {
    "scrolled": true
   },
   "outputs": [
    {
     "data": {
      "application/vnd.jupyter.widget-view+json": {
       "model_id": "552ba011c02a472e920984ccd134c4be",
       "version_major": 2,
       "version_minor": 0
      },
      "text/plain": [
       "Scene(background_color='#ffffff', camera={'position': [0.017978603503298596, 0.017973841385734504, 0.017971500…"
      ]
     },
     "metadata": {},
     "output_type": "display_data"
    }
   ],
   "source": [
    "r = 3\n",
    "theta = np.linspace(0, np.pi, 100)  # 0 <= theta <= 180\n",
    "phi = np.linspace(0, 2.0*np.pi, 100)  # 0 <= phi <= 360\n",
    "r, theta, phi = np.meshgrid(r, theta, phi)\n",
    "\n",
    "psi_2p = beregn_orbital(2, 1, 1, r, theta, phi)\n",
    "plot_hjelp_orbital(r, theta, phi, psi_2p)"
   ]
  },
  {
   "cell_type": "markdown",
   "metadata": {},
   "source": [
    "## Plot d-orbital:"
   ]
  },
  {
   "cell_type": "code",
   "execution_count": 83,
   "metadata": {},
   "outputs": [
    {
     "data": {
      "application/vnd.jupyter.widget-view+json": {
       "model_id": "f4a00faaf38e4455911bdd9069de94a5",
       "version_major": 2,
       "version_minor": 0
      },
      "text/plain": [
       "Scene(background_color='#ffffff', camera={'position': [0.001258144906758151, 0.001258078077259133, 0.001258078…"
      ]
     },
     "metadata": {},
     "output_type": "display_data"
    }
   ],
   "source": [
    "r = 3\n",
    "theta = np.linspace(0, np.pi, 100)  # 0 <= theta <= 180\n",
    "phi = np.linspace(0, 2.0*np.pi, 100)  # 0 <= phi <= 360\n",
    "r, theta, phi = np.meshgrid(r, theta, phi)\n",
    "\n",
    "psi_3dz2 = beregn_orbital(3, 2, 0, r, theta, phi)\n",
    "plot_hjelp_orbital(r, theta, phi, psi_3dz2, cmap='cividis')"
   ]
  },
  {
   "cell_type": "markdown",
   "metadata": {},
   "source": [
    "## Plot f-orbital:"
   ]
  },
  {
   "cell_type": "code",
   "execution_count": 85,
   "metadata": {},
   "outputs": [
    {
     "data": {
      "application/vnd.jupyter.widget-view+json": {
       "model_id": "a0a86c5a01be4535a5825effb515b4cc",
       "version_major": 2,
       "version_minor": 0
      },
      "text/plain": [
       "Scene(background_color='#ffffff', camera={'position': [0.0018951477061404447, 0.0018953311656096283, 0.0018953…"
      ]
     },
     "metadata": {},
     "output_type": "display_data"
    }
   ],
   "source": [
    "r = 16\n",
    "theta = np.linspace(0, np.pi, 300)  # 0 <= theta <= 180\n",
    "phi = np.linspace(0, 2.0*np.pi, 300)  # 0 <= phi <= 360\n",
    "r, theta, phi = np.meshgrid(r, theta, phi)\n",
    "\n",
    "psi_f = beregn_orbital(4, 3, 2, r, theta, phi)\n",
    "plot_hjelp_orbital(r, theta, phi, psi_f, cmap='magma')"
   ]
  }
 ],
 "metadata": {
  "kernelspec": {
   "display_name": "Python 3 (ipykernel)",
   "language": "python",
   "name": "python3"
  },
  "language_info": {
   "codemirror_mode": {
    "name": "ipython",
    "version": 3
   },
   "file_extension": ".py",
   "mimetype": "text/x-python",
   "name": "python",
   "nbconvert_exporter": "python",
   "pygments_lexer": "ipython3",
   "version": "3.9.6"
  }
 },
 "nbformat": 4,
 "nbformat_minor": 4
}
